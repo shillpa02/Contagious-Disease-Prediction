{
 "cells": [
  {
   "cell_type": "markdown",
   "id": "b2298ab7",
   "metadata": {},
   "source": [
    "# Contagious Disease Prediction\n",
    "    \n",
    "            Measles is a highly contagious viral infection caused by the measles virus (MeV), which primarily affects the respiratory system. It is characterized by symptoms such as high fever, cough, runny nose, red eyes, and a distinctive rash that typically starts on the face and spreads to the rest of the body. "
   ]
  },
  {
   "cell_type": "code",
   "execution_count": 13,
   "id": "04323a4b",
   "metadata": {},
   "outputs": [],
   "source": [
    "#Importing Libraries for analysis\n",
    "import numpy as np                                  \n",
    "import pandas as pd  \n",
    "import seaborn as sns\n",
    "import matplotlib.pyplot as plt"
   ]
  },
  {
   "cell_type": "code",
   "execution_count": 14,
   "id": "055aa20a",
   "metadata": {},
   "outputs": [
    {
     "data": {
      "text/html": [
       "<div>\n",
       "<style scoped>\n",
       "    .dataframe tbody tr th:only-of-type {\n",
       "        vertical-align: middle;\n",
       "    }\n",
       "\n",
       "    .dataframe tbody tr th {\n",
       "        vertical-align: top;\n",
       "    }\n",
       "\n",
       "    .dataframe thead th {\n",
       "        text-align: right;\n",
       "    }\n",
       "</style>\n",
       "<table border=\"1\" class=\"dataframe\">\n",
       "  <thead>\n",
       "    <tr style=\"text-align: right;\">\n",
       "      <th></th>\n",
       "      <th>week</th>\n",
       "      <th>state</th>\n",
       "      <th>state_name</th>\n",
       "      <th>disease</th>\n",
       "      <th>cases</th>\n",
       "      <th>incidence_per_capita</th>\n",
       "    </tr>\n",
       "  </thead>\n",
       "  <tbody>\n",
       "    <tr>\n",
       "      <th>0</th>\n",
       "      <td>192801</td>\n",
       "      <td>AL</td>\n",
       "      <td>ALABAMA</td>\n",
       "      <td>MEASLES</td>\n",
       "      <td>97</td>\n",
       "      <td>3.67</td>\n",
       "    </tr>\n",
       "    <tr>\n",
       "      <th>1</th>\n",
       "      <td>192801</td>\n",
       "      <td>AR</td>\n",
       "      <td>ARKANSAS</td>\n",
       "      <td>MEASLES</td>\n",
       "      <td>76</td>\n",
       "      <td>4.11</td>\n",
       "    </tr>\n",
       "    <tr>\n",
       "      <th>2</th>\n",
       "      <td>192801</td>\n",
       "      <td>AZ</td>\n",
       "      <td>ARIZONA</td>\n",
       "      <td>MEASLES</td>\n",
       "      <td>8</td>\n",
       "      <td>1.90</td>\n",
       "    </tr>\n",
       "    <tr>\n",
       "      <th>3</th>\n",
       "      <td>192801</td>\n",
       "      <td>CA</td>\n",
       "      <td>CALIFORNIA</td>\n",
       "      <td>MEASLES</td>\n",
       "      <td>74</td>\n",
       "      <td>1.38</td>\n",
       "    </tr>\n",
       "    <tr>\n",
       "      <th>4</th>\n",
       "      <td>192801</td>\n",
       "      <td>CO</td>\n",
       "      <td>COLORADO</td>\n",
       "      <td>MEASLES</td>\n",
       "      <td>85</td>\n",
       "      <td>8.38</td>\n",
       "    </tr>\n",
       "    <tr>\n",
       "      <th>...</th>\n",
       "      <td>...</td>\n",
       "      <td>...</td>\n",
       "      <td>...</td>\n",
       "      <td>...</td>\n",
       "      <td>...</td>\n",
       "      <td>...</td>\n",
       "    </tr>\n",
       "    <tr>\n",
       "      <th>145162</th>\n",
       "      <td>200252</td>\n",
       "      <td>NV</td>\n",
       "      <td>NEVADA</td>\n",
       "      <td>MEASLES</td>\n",
       "      <td>0</td>\n",
       "      <td>0.00</td>\n",
       "    </tr>\n",
       "    <tr>\n",
       "      <th>145163</th>\n",
       "      <td>200252</td>\n",
       "      <td>NY</td>\n",
       "      <td>NEW YORK</td>\n",
       "      <td>MEASLES</td>\n",
       "      <td>0</td>\n",
       "      <td>0.00</td>\n",
       "    </tr>\n",
       "    <tr>\n",
       "      <th>145164</th>\n",
       "      <td>200252</td>\n",
       "      <td>OH</td>\n",
       "      <td>OHIO</td>\n",
       "      <td>MEASLES</td>\n",
       "      <td>0</td>\n",
       "      <td>0.00</td>\n",
       "    </tr>\n",
       "    <tr>\n",
       "      <th>145165</th>\n",
       "      <td>200252</td>\n",
       "      <td>TX</td>\n",
       "      <td>TEXAS</td>\n",
       "      <td>MEASLES</td>\n",
       "      <td>0</td>\n",
       "      <td>0.00</td>\n",
       "    </tr>\n",
       "    <tr>\n",
       "      <th>145166</th>\n",
       "      <td>200252</td>\n",
       "      <td>UT</td>\n",
       "      <td>UTAH</td>\n",
       "      <td>MEASLES</td>\n",
       "      <td>0</td>\n",
       "      <td>0.00</td>\n",
       "    </tr>\n",
       "  </tbody>\n",
       "</table>\n",
       "<p>145167 rows × 6 columns</p>\n",
       "</div>"
      ],
      "text/plain": [
       "          week state  state_name  disease  cases  incidence_per_capita\n",
       "0       192801    AL     ALABAMA  MEASLES     97                  3.67\n",
       "1       192801    AR    ARKANSAS  MEASLES     76                  4.11\n",
       "2       192801    AZ     ARIZONA  MEASLES      8                  1.90\n",
       "3       192801    CA  CALIFORNIA  MEASLES     74                  1.38\n",
       "4       192801    CO    COLORADO  MEASLES     85                  8.38\n",
       "...        ...   ...         ...      ...    ...                   ...\n",
       "145162  200252    NV      NEVADA  MEASLES      0                  0.00\n",
       "145163  200252    NY    NEW YORK  MEASLES      0                  0.00\n",
       "145164  200252    OH        OHIO  MEASLES      0                  0.00\n",
       "145165  200252    TX       TEXAS  MEASLES      0                  0.00\n",
       "145166  200252    UT        UTAH  MEASLES      0                  0.00\n",
       "\n",
       "[145167 rows x 6 columns]"
      ]
     },
     "execution_count": 14,
     "metadata": {},
     "output_type": "execute_result"
    }
   ],
   "source": [
    "#Loading dataset,stored in a variable\n",
    "a=pd.read_csv(\"measles.csv.zip\")      \n",
    "a   "
   ]
  },
  {
   "cell_type": "markdown",
   "id": "93baff41",
   "metadata": {},
   "source": [
    "### ATTRIBUTE INFORMATION\n",
    "\n",
    "\n",
    "Week: The week during which the data was collected or reported.\n",
    "\n",
    "State: This column represents an abbreviation or code for the state in which the data was collected. It could be represented as a string of characters.\n",
    "\n",
    "State Name: Represents the full name of the state corresponding to the state abbreviation or code in the \"State\" column.\n",
    "\n",
    "Disease: The type or name of the disease for which the cases or incidence rates are reported. It could be represented as a string of characters.\n",
    "\n",
    "Cases: This column represents the total number of reported cases of the disease in a specific week and state. It is likely represented as an integer.\n",
    "\n",
    "Incidence Per Capita: This column represents the number of reported cases per capita (per person) in a specific week and state. It is likely represented as a floating-point number, indicating the rate of disease spread relative to the population size."
   ]
  },
  {
   "cell_type": "markdown",
   "id": "277569be",
   "metadata": {},
   "source": [
    "## Data Analysing"
   ]
  },
  {
   "cell_type": "code",
   "execution_count": 15,
   "id": "13cfe998",
   "metadata": {},
   "outputs": [
    {
     "name": "stdout",
     "output_type": "stream",
     "text": [
      "<class 'pandas.core.frame.DataFrame'>\n",
      "RangeIndex: 145167 entries, 0 to 145166\n",
      "Data columns (total 6 columns):\n",
      " #   Column                Non-Null Count   Dtype  \n",
      "---  ------                --------------   -----  \n",
      " 0   week                  145167 non-null  int64  \n",
      " 1   state                 145167 non-null  object \n",
      " 2   state_name            145167 non-null  object \n",
      " 3   disease               145167 non-null  object \n",
      " 4   cases                 145167 non-null  int64  \n",
      " 5   incidence_per_capita  145167 non-null  float64\n",
      "dtypes: float64(1), int64(2), object(3)\n",
      "memory usage: 6.6+ MB\n"
     ]
    }
   ],
   "source": [
    "a.info()"
   ]
  },
  {
   "cell_type": "code",
   "execution_count": 16,
   "id": "886838ad",
   "metadata": {},
   "outputs": [
    {
     "data": {
      "text/html": [
       "<div>\n",
       "<style scoped>\n",
       "    .dataframe tbody tr th:only-of-type {\n",
       "        vertical-align: middle;\n",
       "    }\n",
       "\n",
       "    .dataframe tbody tr th {\n",
       "        vertical-align: top;\n",
       "    }\n",
       "\n",
       "    .dataframe thead th {\n",
       "        text-align: right;\n",
       "    }\n",
       "</style>\n",
       "<table border=\"1\" class=\"dataframe\">\n",
       "  <thead>\n",
       "    <tr style=\"text-align: right;\">\n",
       "      <th></th>\n",
       "      <th>week</th>\n",
       "      <th>state_name</th>\n",
       "      <th>disease</th>\n",
       "      <th>cases</th>\n",
       "      <th>incidence_per_capita</th>\n",
       "    </tr>\n",
       "  </thead>\n",
       "  <tbody>\n",
       "    <tr>\n",
       "      <th>0</th>\n",
       "      <td>192801</td>\n",
       "      <td>ALABAMA</td>\n",
       "      <td>MEASLES</td>\n",
       "      <td>97</td>\n",
       "      <td>3.67</td>\n",
       "    </tr>\n",
       "    <tr>\n",
       "      <th>1</th>\n",
       "      <td>192801</td>\n",
       "      <td>ARKANSAS</td>\n",
       "      <td>MEASLES</td>\n",
       "      <td>76</td>\n",
       "      <td>4.11</td>\n",
       "    </tr>\n",
       "    <tr>\n",
       "      <th>2</th>\n",
       "      <td>192801</td>\n",
       "      <td>ARIZONA</td>\n",
       "      <td>MEASLES</td>\n",
       "      <td>8</td>\n",
       "      <td>1.90</td>\n",
       "    </tr>\n",
       "    <tr>\n",
       "      <th>3</th>\n",
       "      <td>192801</td>\n",
       "      <td>CALIFORNIA</td>\n",
       "      <td>MEASLES</td>\n",
       "      <td>74</td>\n",
       "      <td>1.38</td>\n",
       "    </tr>\n",
       "    <tr>\n",
       "      <th>4</th>\n",
       "      <td>192801</td>\n",
       "      <td>COLORADO</td>\n",
       "      <td>MEASLES</td>\n",
       "      <td>85</td>\n",
       "      <td>8.38</td>\n",
       "    </tr>\n",
       "    <tr>\n",
       "      <th>...</th>\n",
       "      <td>...</td>\n",
       "      <td>...</td>\n",
       "      <td>...</td>\n",
       "      <td>...</td>\n",
       "      <td>...</td>\n",
       "    </tr>\n",
       "    <tr>\n",
       "      <th>145162</th>\n",
       "      <td>200252</td>\n",
       "      <td>NEVADA</td>\n",
       "      <td>MEASLES</td>\n",
       "      <td>0</td>\n",
       "      <td>0.00</td>\n",
       "    </tr>\n",
       "    <tr>\n",
       "      <th>145163</th>\n",
       "      <td>200252</td>\n",
       "      <td>NEW YORK</td>\n",
       "      <td>MEASLES</td>\n",
       "      <td>0</td>\n",
       "      <td>0.00</td>\n",
       "    </tr>\n",
       "    <tr>\n",
       "      <th>145164</th>\n",
       "      <td>200252</td>\n",
       "      <td>OHIO</td>\n",
       "      <td>MEASLES</td>\n",
       "      <td>0</td>\n",
       "      <td>0.00</td>\n",
       "    </tr>\n",
       "    <tr>\n",
       "      <th>145165</th>\n",
       "      <td>200252</td>\n",
       "      <td>TEXAS</td>\n",
       "      <td>MEASLES</td>\n",
       "      <td>0</td>\n",
       "      <td>0.00</td>\n",
       "    </tr>\n",
       "    <tr>\n",
       "      <th>145166</th>\n",
       "      <td>200252</td>\n",
       "      <td>UTAH</td>\n",
       "      <td>MEASLES</td>\n",
       "      <td>0</td>\n",
       "      <td>0.00</td>\n",
       "    </tr>\n",
       "  </tbody>\n",
       "</table>\n",
       "<p>145167 rows × 5 columns</p>\n",
       "</div>"
      ],
      "text/plain": [
       "          week  state_name  disease  cases  incidence_per_capita\n",
       "0       192801     ALABAMA  MEASLES     97                  3.67\n",
       "1       192801    ARKANSAS  MEASLES     76                  4.11\n",
       "2       192801     ARIZONA  MEASLES      8                  1.90\n",
       "3       192801  CALIFORNIA  MEASLES     74                  1.38\n",
       "4       192801    COLORADO  MEASLES     85                  8.38\n",
       "...        ...         ...      ...    ...                   ...\n",
       "145162  200252      NEVADA  MEASLES      0                  0.00\n",
       "145163  200252    NEW YORK  MEASLES      0                  0.00\n",
       "145164  200252        OHIO  MEASLES      0                  0.00\n",
       "145165  200252       TEXAS  MEASLES      0                  0.00\n",
       "145166  200252        UTAH  MEASLES      0                  0.00\n",
       "\n",
       "[145167 rows x 5 columns]"
      ]
     },
     "execution_count": 16,
     "metadata": {},
     "output_type": "execute_result"
    }
   ],
   "source": [
    "# To remove specified column, removing Nan valued columns\n",
    "b=a.drop(columns=[\"state\"])   \n",
    "b"
   ]
  },
  {
   "cell_type": "code",
   "execution_count": 17,
   "id": "ab08be04",
   "metadata": {},
   "outputs": [
    {
     "data": {
      "text/html": [
       "<div>\n",
       "<style scoped>\n",
       "    .dataframe tbody tr th:only-of-type {\n",
       "        vertical-align: middle;\n",
       "    }\n",
       "\n",
       "    .dataframe tbody tr th {\n",
       "        vertical-align: top;\n",
       "    }\n",
       "\n",
       "    .dataframe thead th {\n",
       "        text-align: right;\n",
       "    }\n",
       "</style>\n",
       "<table border=\"1\" class=\"dataframe\">\n",
       "  <thead>\n",
       "    <tr style=\"text-align: right;\">\n",
       "      <th></th>\n",
       "      <th>week</th>\n",
       "      <th>cases</th>\n",
       "      <th>incidence_per_capita</th>\n",
       "    </tr>\n",
       "  </thead>\n",
       "  <tbody>\n",
       "    <tr>\n",
       "      <th>count</th>\n",
       "      <td>145167.000000</td>\n",
       "      <td>145167.000000</td>\n",
       "      <td>145167.000000</td>\n",
       "    </tr>\n",
       "    <tr>\n",
       "      <th>mean</th>\n",
       "      <td>196012.188417</td>\n",
       "      <td>128.617372</td>\n",
       "      <td>4.445870</td>\n",
       "    </tr>\n",
       "    <tr>\n",
       "      <th>std</th>\n",
       "      <td>1918.861491</td>\n",
       "      <td>392.418360</td>\n",
       "      <td>11.053309</td>\n",
       "    </tr>\n",
       "    <tr>\n",
       "      <th>min</th>\n",
       "      <td>192801.000000</td>\n",
       "      <td>0.000000</td>\n",
       "      <td>0.000000</td>\n",
       "    </tr>\n",
       "    <tr>\n",
       "      <th>25%</th>\n",
       "      <td>194410.000000</td>\n",
       "      <td>1.000000</td>\n",
       "      <td>0.030000</td>\n",
       "    </tr>\n",
       "    <tr>\n",
       "      <th>50%</th>\n",
       "      <td>195937.000000</td>\n",
       "      <td>11.000000</td>\n",
       "      <td>0.530000</td>\n",
       "    </tr>\n",
       "    <tr>\n",
       "      <th>75%</th>\n",
       "      <td>197451.000000</td>\n",
       "      <td>73.000000</td>\n",
       "      <td>3.510000</td>\n",
       "    </tr>\n",
       "    <tr>\n",
       "      <th>max</th>\n",
       "      <td>200252.000000</td>\n",
       "      <td>10402.000000</td>\n",
       "      <td>683.060000</td>\n",
       "    </tr>\n",
       "  </tbody>\n",
       "</table>\n",
       "</div>"
      ],
      "text/plain": [
       "                week          cases  incidence_per_capita\n",
       "count  145167.000000  145167.000000         145167.000000\n",
       "mean   196012.188417     128.617372              4.445870\n",
       "std      1918.861491     392.418360             11.053309\n",
       "min    192801.000000       0.000000              0.000000\n",
       "25%    194410.000000       1.000000              0.030000\n",
       "50%    195937.000000      11.000000              0.530000\n",
       "75%    197451.000000      73.000000              3.510000\n",
       "max    200252.000000   10402.000000            683.060000"
      ]
     },
     "execution_count": 17,
     "metadata": {},
     "output_type": "execute_result"
    }
   ],
   "source": [
    "#statistical description about the data\n",
    "\n",
    "b.describe()"
   ]
  },
  {
   "cell_type": "code",
   "execution_count": 18,
   "id": "04f66031",
   "metadata": {},
   "outputs": [
    {
     "data": {
      "text/html": [
       "<div>\n",
       "<style scoped>\n",
       "    .dataframe tbody tr th:only-of-type {\n",
       "        vertical-align: middle;\n",
       "    }\n",
       "\n",
       "    .dataframe tbody tr th {\n",
       "        vertical-align: top;\n",
       "    }\n",
       "\n",
       "    .dataframe thead th {\n",
       "        text-align: right;\n",
       "    }\n",
       "</style>\n",
       "<table border=\"1\" class=\"dataframe\">\n",
       "  <thead>\n",
       "    <tr style=\"text-align: right;\">\n",
       "      <th></th>\n",
       "      <th>week</th>\n",
       "      <th>state_name</th>\n",
       "      <th>disease</th>\n",
       "      <th>cases</th>\n",
       "      <th>incidence_per_capita</th>\n",
       "    </tr>\n",
       "  </thead>\n",
       "  <tbody>\n",
       "    <tr>\n",
       "      <th>0</th>\n",
       "      <td>192801</td>\n",
       "      <td>ALABAMA</td>\n",
       "      <td>MEASLES</td>\n",
       "      <td>97</td>\n",
       "      <td>3.67</td>\n",
       "    </tr>\n",
       "    <tr>\n",
       "      <th>1</th>\n",
       "      <td>192801</td>\n",
       "      <td>ARKANSAS</td>\n",
       "      <td>MEASLES</td>\n",
       "      <td>76</td>\n",
       "      <td>4.11</td>\n",
       "    </tr>\n",
       "    <tr>\n",
       "      <th>2</th>\n",
       "      <td>192801</td>\n",
       "      <td>ARIZONA</td>\n",
       "      <td>MEASLES</td>\n",
       "      <td>8</td>\n",
       "      <td>1.90</td>\n",
       "    </tr>\n",
       "    <tr>\n",
       "      <th>3</th>\n",
       "      <td>192801</td>\n",
       "      <td>CALIFORNIA</td>\n",
       "      <td>MEASLES</td>\n",
       "      <td>74</td>\n",
       "      <td>1.38</td>\n",
       "    </tr>\n",
       "    <tr>\n",
       "      <th>4</th>\n",
       "      <td>192801</td>\n",
       "      <td>COLORADO</td>\n",
       "      <td>MEASLES</td>\n",
       "      <td>85</td>\n",
       "      <td>8.38</td>\n",
       "    </tr>\n",
       "    <tr>\n",
       "      <th>...</th>\n",
       "      <td>...</td>\n",
       "      <td>...</td>\n",
       "      <td>...</td>\n",
       "      <td>...</td>\n",
       "      <td>...</td>\n",
       "    </tr>\n",
       "    <tr>\n",
       "      <th>95</th>\n",
       "      <td>192803</td>\n",
       "      <td>LOUISIANA</td>\n",
       "      <td>MEASLES</td>\n",
       "      <td>48</td>\n",
       "      <td>2.33</td>\n",
       "    </tr>\n",
       "    <tr>\n",
       "      <th>96</th>\n",
       "      <td>192803</td>\n",
       "      <td>MASSACHUSETTS</td>\n",
       "      <td>MEASLES</td>\n",
       "      <td>1466</td>\n",
       "      <td>34.76</td>\n",
       "    </tr>\n",
       "    <tr>\n",
       "      <th>97</th>\n",
       "      <td>192803</td>\n",
       "      <td>MARYLAND</td>\n",
       "      <td>MEASLES</td>\n",
       "      <td>345</td>\n",
       "      <td>21.43</td>\n",
       "    </tr>\n",
       "    <tr>\n",
       "      <th>98</th>\n",
       "      <td>192803</td>\n",
       "      <td>MAINE</td>\n",
       "      <td>MEASLES</td>\n",
       "      <td>54</td>\n",
       "      <td>6.78</td>\n",
       "    </tr>\n",
       "    <tr>\n",
       "      <th>99</th>\n",
       "      <td>192803</td>\n",
       "      <td>MICHIGAN</td>\n",
       "      <td>MEASLES</td>\n",
       "      <td>438</td>\n",
       "      <td>9.39</td>\n",
       "    </tr>\n",
       "  </tbody>\n",
       "</table>\n",
       "<p>100 rows × 5 columns</p>\n",
       "</div>"
      ],
      "text/plain": [
       "      week     state_name  disease  cases  incidence_per_capita\n",
       "0   192801        ALABAMA  MEASLES     97                  3.67\n",
       "1   192801       ARKANSAS  MEASLES     76                  4.11\n",
       "2   192801        ARIZONA  MEASLES      8                  1.90\n",
       "3   192801     CALIFORNIA  MEASLES     74                  1.38\n",
       "4   192801       COLORADO  MEASLES     85                  8.38\n",
       "..     ...            ...      ...    ...                   ...\n",
       "95  192803      LOUISIANA  MEASLES     48                  2.33\n",
       "96  192803  MASSACHUSETTS  MEASLES   1466                 34.76\n",
       "97  192803       MARYLAND  MEASLES    345                 21.43\n",
       "98  192803          MAINE  MEASLES     54                  6.78\n",
       "99  192803       MICHIGAN  MEASLES    438                  9.39\n",
       "\n",
       "[100 rows x 5 columns]"
      ]
     },
     "execution_count": 18,
     "metadata": {},
     "output_type": "execute_result"
    }
   ],
   "source": [
    "#first 100 rows of the dataframe\n",
    "\n",
    "b.head(100)"
   ]
  },
  {
   "cell_type": "code",
   "execution_count": 19,
   "id": "2fe315f6",
   "metadata": {},
   "outputs": [
    {
     "data": {
      "text/html": [
       "<div>\n",
       "<style scoped>\n",
       "    .dataframe tbody tr th:only-of-type {\n",
       "        vertical-align: middle;\n",
       "    }\n",
       "\n",
       "    .dataframe tbody tr th {\n",
       "        vertical-align: top;\n",
       "    }\n",
       "\n",
       "    .dataframe thead th {\n",
       "        text-align: right;\n",
       "    }\n",
       "</style>\n",
       "<table border=\"1\" class=\"dataframe\">\n",
       "  <thead>\n",
       "    <tr style=\"text-align: right;\">\n",
       "      <th></th>\n",
       "      <th>week</th>\n",
       "      <th>state_name</th>\n",
       "      <th>disease</th>\n",
       "      <th>cases</th>\n",
       "      <th>incidence_per_capita</th>\n",
       "    </tr>\n",
       "  </thead>\n",
       "  <tbody>\n",
       "    <tr>\n",
       "      <th>145067</th>\n",
       "      <td>200241</td>\n",
       "      <td>TEXAS</td>\n",
       "      <td>MEASLES</td>\n",
       "      <td>0</td>\n",
       "      <td>0.0</td>\n",
       "    </tr>\n",
       "    <tr>\n",
       "      <th>145068</th>\n",
       "      <td>200242</td>\n",
       "      <td>CALIFORNIA</td>\n",
       "      <td>MEASLES</td>\n",
       "      <td>0</td>\n",
       "      <td>0.0</td>\n",
       "    </tr>\n",
       "    <tr>\n",
       "      <th>145069</th>\n",
       "      <td>200242</td>\n",
       "      <td>FLORIDA</td>\n",
       "      <td>MEASLES</td>\n",
       "      <td>0</td>\n",
       "      <td>0.0</td>\n",
       "    </tr>\n",
       "    <tr>\n",
       "      <th>145070</th>\n",
       "      <td>200242</td>\n",
       "      <td>HAWAII</td>\n",
       "      <td>MEASLES</td>\n",
       "      <td>0</td>\n",
       "      <td>0.0</td>\n",
       "    </tr>\n",
       "    <tr>\n",
       "      <th>145071</th>\n",
       "      <td>200242</td>\n",
       "      <td>INDIANA</td>\n",
       "      <td>MEASLES</td>\n",
       "      <td>0</td>\n",
       "      <td>0.0</td>\n",
       "    </tr>\n",
       "    <tr>\n",
       "      <th>...</th>\n",
       "      <td>...</td>\n",
       "      <td>...</td>\n",
       "      <td>...</td>\n",
       "      <td>...</td>\n",
       "      <td>...</td>\n",
       "    </tr>\n",
       "    <tr>\n",
       "      <th>145162</th>\n",
       "      <td>200252</td>\n",
       "      <td>NEVADA</td>\n",
       "      <td>MEASLES</td>\n",
       "      <td>0</td>\n",
       "      <td>0.0</td>\n",
       "    </tr>\n",
       "    <tr>\n",
       "      <th>145163</th>\n",
       "      <td>200252</td>\n",
       "      <td>NEW YORK</td>\n",
       "      <td>MEASLES</td>\n",
       "      <td>0</td>\n",
       "      <td>0.0</td>\n",
       "    </tr>\n",
       "    <tr>\n",
       "      <th>145164</th>\n",
       "      <td>200252</td>\n",
       "      <td>OHIO</td>\n",
       "      <td>MEASLES</td>\n",
       "      <td>0</td>\n",
       "      <td>0.0</td>\n",
       "    </tr>\n",
       "    <tr>\n",
       "      <th>145165</th>\n",
       "      <td>200252</td>\n",
       "      <td>TEXAS</td>\n",
       "      <td>MEASLES</td>\n",
       "      <td>0</td>\n",
       "      <td>0.0</td>\n",
       "    </tr>\n",
       "    <tr>\n",
       "      <th>145166</th>\n",
       "      <td>200252</td>\n",
       "      <td>UTAH</td>\n",
       "      <td>MEASLES</td>\n",
       "      <td>0</td>\n",
       "      <td>0.0</td>\n",
       "    </tr>\n",
       "  </tbody>\n",
       "</table>\n",
       "<p>100 rows × 5 columns</p>\n",
       "</div>"
      ],
      "text/plain": [
       "          week  state_name  disease  cases  incidence_per_capita\n",
       "145067  200241       TEXAS  MEASLES      0                   0.0\n",
       "145068  200242  CALIFORNIA  MEASLES      0                   0.0\n",
       "145069  200242     FLORIDA  MEASLES      0                   0.0\n",
       "145070  200242      HAWAII  MEASLES      0                   0.0\n",
       "145071  200242     INDIANA  MEASLES      0                   0.0\n",
       "...        ...         ...      ...    ...                   ...\n",
       "145162  200252      NEVADA  MEASLES      0                   0.0\n",
       "145163  200252    NEW YORK  MEASLES      0                   0.0\n",
       "145164  200252        OHIO  MEASLES      0                   0.0\n",
       "145165  200252       TEXAS  MEASLES      0                   0.0\n",
       "145166  200252        UTAH  MEASLES      0                   0.0\n",
       "\n",
       "[100 rows x 5 columns]"
      ]
     },
     "execution_count": 19,
     "metadata": {},
     "output_type": "execute_result"
    }
   ],
   "source": [
    "#last 100 rows of the dataframe\n",
    "\n",
    "b.tail(100)"
   ]
  },
  {
   "cell_type": "code",
   "execution_count": 20,
   "id": "58a901e7",
   "metadata": {},
   "outputs": [
    {
     "name": "stdout",
     "output_type": "stream",
     "text": [
      "['ALABAMA' 'ARKANSAS' 'ARIZONA' 'CALIFORNIA' 'COLORADO' 'CONNECTICUT'\n",
      " 'DELAWARE' 'FLORIDA' 'GEORGIA' 'IOWA' 'ILLINOIS' 'INDIANA' 'KANSAS'\n",
      " 'KENTUCKY' 'LOUISIANA' 'MASSACHUSETTS' 'MARYLAND' 'MAINE' 'MICHIGAN'\n",
      " 'MINNESOTA' 'MISSOURI' 'MONTANA' 'NORTH CAROLINA' 'NEBRASKA' 'NEW JERSEY'\n",
      " 'NEW MEXICO' 'NEW YORK' 'OHIO' 'OKLAHOMA' 'OREGON' 'PENNSYLVANIA'\n",
      " 'RHODE ISLAND' 'SOUTH CAROLINA' 'SOUTH DAKOTA' 'TENNESSEE' 'TEXAS' 'UTAH'\n",
      " 'VERMONT' 'WASHINGTON' 'WISCONSIN' 'WEST VIRGINIA' 'WYOMING' 'IDAHO'\n",
      " 'NORTH DAKOTA' 'DISTRICT OF COLUMBIA' 'NEW HAMPSHIRE' 'MISSISSIPPI'\n",
      " 'VIRGINIA' 'NEVADA' 'HAWAII' 'ALASKA']\n"
     ]
    }
   ],
   "source": [
    "#To know the states present in the data\n",
    "unique_State = b['state_name'].unique()\n",
    "print(unique_State)"
   ]
  },
  {
   "cell_type": "code",
   "execution_count": 21,
   "id": "783c2a5a",
   "metadata": {},
   "outputs": [
    {
     "data": {
      "text/html": [
       "<div>\n",
       "<style scoped>\n",
       "    .dataframe tbody tr th:only-of-type {\n",
       "        vertical-align: middle;\n",
       "    }\n",
       "\n",
       "    .dataframe tbody tr th {\n",
       "        vertical-align: top;\n",
       "    }\n",
       "\n",
       "    .dataframe thead th {\n",
       "        text-align: right;\n",
       "    }\n",
       "</style>\n",
       "<table border=\"1\" class=\"dataframe\">\n",
       "  <thead>\n",
       "    <tr style=\"text-align: right;\">\n",
       "      <th></th>\n",
       "      <th>week</th>\n",
       "      <th>state_name</th>\n",
       "      <th>disease</th>\n",
       "      <th>cases</th>\n",
       "      <th>incidence_per_capita</th>\n",
       "    </tr>\n",
       "  </thead>\n",
       "  <tbody>\n",
       "    <tr>\n",
       "      <th>58936</th>\n",
       "      <td>195401</td>\n",
       "      <td>ALASKA</td>\n",
       "      <td>MEASLES</td>\n",
       "      <td>14</td>\n",
       "      <td>6.51</td>\n",
       "    </tr>\n",
       "    <tr>\n",
       "      <th>58987</th>\n",
       "      <td>195402</td>\n",
       "      <td>ALASKA</td>\n",
       "      <td>MEASLES</td>\n",
       "      <td>30</td>\n",
       "      <td>13.95</td>\n",
       "    </tr>\n",
       "    <tr>\n",
       "      <th>59038</th>\n",
       "      <td>195403</td>\n",
       "      <td>ALASKA</td>\n",
       "      <td>MEASLES</td>\n",
       "      <td>40</td>\n",
       "      <td>18.60</td>\n",
       "    </tr>\n",
       "    <tr>\n",
       "      <th>59088</th>\n",
       "      <td>195404</td>\n",
       "      <td>ALASKA</td>\n",
       "      <td>MEASLES</td>\n",
       "      <td>16</td>\n",
       "      <td>7.44</td>\n",
       "    </tr>\n",
       "    <tr>\n",
       "      <th>59139</th>\n",
       "      <td>195405</td>\n",
       "      <td>ALASKA</td>\n",
       "      <td>MEASLES</td>\n",
       "      <td>56</td>\n",
       "      <td>26.05</td>\n",
       "    </tr>\n",
       "    <tr>\n",
       "      <th>...</th>\n",
       "      <td>...</td>\n",
       "      <td>...</td>\n",
       "      <td>...</td>\n",
       "      <td>...</td>\n",
       "      <td>...</td>\n",
       "    </tr>\n",
       "    <tr>\n",
       "      <th>144048</th>\n",
       "      <td>200048</td>\n",
       "      <td>ALASKA</td>\n",
       "      <td>MEASLES</td>\n",
       "      <td>0</td>\n",
       "      <td>0.00</td>\n",
       "    </tr>\n",
       "    <tr>\n",
       "      <th>144068</th>\n",
       "      <td>200049</td>\n",
       "      <td>ALASKA</td>\n",
       "      <td>MEASLES</td>\n",
       "      <td>0</td>\n",
       "      <td>0.00</td>\n",
       "    </tr>\n",
       "    <tr>\n",
       "      <th>144088</th>\n",
       "      <td>200050</td>\n",
       "      <td>ALASKA</td>\n",
       "      <td>MEASLES</td>\n",
       "      <td>0</td>\n",
       "      <td>0.00</td>\n",
       "    </tr>\n",
       "    <tr>\n",
       "      <th>144108</th>\n",
       "      <td>200051</td>\n",
       "      <td>ALASKA</td>\n",
       "      <td>MEASLES</td>\n",
       "      <td>0</td>\n",
       "      <td>0.00</td>\n",
       "    </tr>\n",
       "    <tr>\n",
       "      <th>144128</th>\n",
       "      <td>200052</td>\n",
       "      <td>ALASKA</td>\n",
       "      <td>MEASLES</td>\n",
       "      <td>0</td>\n",
       "      <td>0.00</td>\n",
       "    </tr>\n",
       "  </tbody>\n",
       "</table>\n",
       "<p>1359 rows × 5 columns</p>\n",
       "</div>"
      ],
      "text/plain": [
       "          week state_name  disease  cases  incidence_per_capita\n",
       "58936   195401     ALASKA  MEASLES     14                  6.51\n",
       "58987   195402     ALASKA  MEASLES     30                 13.95\n",
       "59038   195403     ALASKA  MEASLES     40                 18.60\n",
       "59088   195404     ALASKA  MEASLES     16                  7.44\n",
       "59139   195405     ALASKA  MEASLES     56                 26.05\n",
       "...        ...        ...      ...    ...                   ...\n",
       "144048  200048     ALASKA  MEASLES      0                  0.00\n",
       "144068  200049     ALASKA  MEASLES      0                  0.00\n",
       "144088  200050     ALASKA  MEASLES      0                  0.00\n",
       "144108  200051     ALASKA  MEASLES      0                  0.00\n",
       "144128  200052     ALASKA  MEASLES      0                  0.00\n",
       "\n",
       "[1359 rows x 5 columns]"
      ]
     },
     "execution_count": 21,
     "metadata": {},
     "output_type": "execute_result"
    }
   ],
   "source": [
    "#data values of state Alaska\n",
    "\n",
    "b_alaska = b['state_name']=='ALASKA'\n",
    "alaska=b[b_alaska]\n",
    "alaska"
   ]
  },
  {
   "cell_type": "code",
   "execution_count": 22,
   "id": "786a8fa0",
   "metadata": {},
   "outputs": [
    {
     "data": {
      "text/html": [
       "<div>\n",
       "<style scoped>\n",
       "    .dataframe tbody tr th:only-of-type {\n",
       "        vertical-align: middle;\n",
       "    }\n",
       "\n",
       "    .dataframe tbody tr th {\n",
       "        vertical-align: top;\n",
       "    }\n",
       "\n",
       "    .dataframe thead th {\n",
       "        text-align: right;\n",
       "    }\n",
       "</style>\n",
       "<table border=\"1\" class=\"dataframe\">\n",
       "  <thead>\n",
       "    <tr style=\"text-align: right;\">\n",
       "      <th></th>\n",
       "      <th>week</th>\n",
       "      <th>state_name</th>\n",
       "      <th>disease</th>\n",
       "      <th>cases</th>\n",
       "      <th>incidence_per_capita</th>\n",
       "    </tr>\n",
       "  </thead>\n",
       "  <tbody>\n",
       "    <tr>\n",
       "      <th>35</th>\n",
       "      <td>192801</td>\n",
       "      <td>TEXAS</td>\n",
       "      <td>MEASLES</td>\n",
       "      <td>67</td>\n",
       "      <td>1.18</td>\n",
       "    </tr>\n",
       "    <tr>\n",
       "      <th>77</th>\n",
       "      <td>192802</td>\n",
       "      <td>TEXAS</td>\n",
       "      <td>MEASLES</td>\n",
       "      <td>36</td>\n",
       "      <td>0.63</td>\n",
       "    </tr>\n",
       "    <tr>\n",
       "      <th>117</th>\n",
       "      <td>192803</td>\n",
       "      <td>TEXAS</td>\n",
       "      <td>MEASLES</td>\n",
       "      <td>35</td>\n",
       "      <td>0.62</td>\n",
       "    </tr>\n",
       "    <tr>\n",
       "      <th>161</th>\n",
       "      <td>192804</td>\n",
       "      <td>TEXAS</td>\n",
       "      <td>MEASLES</td>\n",
       "      <td>21</td>\n",
       "      <td>0.37</td>\n",
       "    </tr>\n",
       "    <tr>\n",
       "      <th>206</th>\n",
       "      <td>192805</td>\n",
       "      <td>TEXAS</td>\n",
       "      <td>MEASLES</td>\n",
       "      <td>89</td>\n",
       "      <td>1.57</td>\n",
       "    </tr>\n",
       "    <tr>\n",
       "      <th>...</th>\n",
       "      <td>...</td>\n",
       "      <td>...</td>\n",
       "      <td>...</td>\n",
       "      <td>...</td>\n",
       "      <td>...</td>\n",
       "    </tr>\n",
       "    <tr>\n",
       "      <th>145107</th>\n",
       "      <td>200245</td>\n",
       "      <td>TEXAS</td>\n",
       "      <td>MEASLES</td>\n",
       "      <td>0</td>\n",
       "      <td>0.00</td>\n",
       "    </tr>\n",
       "    <tr>\n",
       "      <th>145118</th>\n",
       "      <td>200246</td>\n",
       "      <td>TEXAS</td>\n",
       "      <td>MEASLES</td>\n",
       "      <td>0</td>\n",
       "      <td>0.00</td>\n",
       "    </tr>\n",
       "    <tr>\n",
       "      <th>145129</th>\n",
       "      <td>200247</td>\n",
       "      <td>TEXAS</td>\n",
       "      <td>MEASLES</td>\n",
       "      <td>0</td>\n",
       "      <td>0.00</td>\n",
       "    </tr>\n",
       "    <tr>\n",
       "      <th>145152</th>\n",
       "      <td>200251</td>\n",
       "      <td>TEXAS</td>\n",
       "      <td>MEASLES</td>\n",
       "      <td>0</td>\n",
       "      <td>0.00</td>\n",
       "    </tr>\n",
       "    <tr>\n",
       "      <th>145165</th>\n",
       "      <td>200252</td>\n",
       "      <td>TEXAS</td>\n",
       "      <td>MEASLES</td>\n",
       "      <td>0</td>\n",
       "      <td>0.00</td>\n",
       "    </tr>\n",
       "  </tbody>\n",
       "</table>\n",
       "<p>3407 rows × 5 columns</p>\n",
       "</div>"
      ],
      "text/plain": [
       "          week state_name  disease  cases  incidence_per_capita\n",
       "35      192801      TEXAS  MEASLES     67                  1.18\n",
       "77      192802      TEXAS  MEASLES     36                  0.63\n",
       "117     192803      TEXAS  MEASLES     35                  0.62\n",
       "161     192804      TEXAS  MEASLES     21                  0.37\n",
       "206     192805      TEXAS  MEASLES     89                  1.57\n",
       "...        ...        ...      ...    ...                   ...\n",
       "145107  200245      TEXAS  MEASLES      0                  0.00\n",
       "145118  200246      TEXAS  MEASLES      0                  0.00\n",
       "145129  200247      TEXAS  MEASLES      0                  0.00\n",
       "145152  200251      TEXAS  MEASLES      0                  0.00\n",
       "145165  200252      TEXAS  MEASLES      0                  0.00\n",
       "\n",
       "[3407 rows x 5 columns]"
      ]
     },
     "execution_count": 22,
     "metadata": {},
     "output_type": "execute_result"
    }
   ],
   "source": [
    "##data values of state Texas\n",
    "\n",
    "\n",
    "b_texas = b['state_name']=='TEXAS'\n",
    "texas=b[b_texas]\n",
    "texas"
   ]
  },
  {
   "cell_type": "code",
   "execution_count": 23,
   "id": "e9323457",
   "metadata": {},
   "outputs": [
    {
     "data": {
      "text/html": [
       "<div>\n",
       "<style scoped>\n",
       "    .dataframe tbody tr th:only-of-type {\n",
       "        vertical-align: middle;\n",
       "    }\n",
       "\n",
       "    .dataframe tbody tr th {\n",
       "        vertical-align: top;\n",
       "    }\n",
       "\n",
       "    .dataframe thead th {\n",
       "        text-align: right;\n",
       "    }\n",
       "</style>\n",
       "<table border=\"1\" class=\"dataframe\">\n",
       "  <thead>\n",
       "    <tr style=\"text-align: right;\">\n",
       "      <th></th>\n",
       "      <th>week</th>\n",
       "      <th>state_name</th>\n",
       "      <th>disease</th>\n",
       "      <th>cases</th>\n",
       "      <th>incidence_per_capita</th>\n",
       "    </tr>\n",
       "  </thead>\n",
       "  <tbody>\n",
       "    <tr>\n",
       "      <th>7</th>\n",
       "      <td>192801</td>\n",
       "      <td>FLORIDA</td>\n",
       "      <td>MEASLES</td>\n",
       "      <td>3</td>\n",
       "      <td>0.21</td>\n",
       "    </tr>\n",
       "    <tr>\n",
       "      <th>49</th>\n",
       "      <td>192802</td>\n",
       "      <td>FLORIDA</td>\n",
       "      <td>MEASLES</td>\n",
       "      <td>7</td>\n",
       "      <td>0.49</td>\n",
       "    </tr>\n",
       "    <tr>\n",
       "      <th>89</th>\n",
       "      <td>192803</td>\n",
       "      <td>FLORIDA</td>\n",
       "      <td>MEASLES</td>\n",
       "      <td>6</td>\n",
       "      <td>0.42</td>\n",
       "    </tr>\n",
       "    <tr>\n",
       "      <th>132</th>\n",
       "      <td>192804</td>\n",
       "      <td>FLORIDA</td>\n",
       "      <td>MEASLES</td>\n",
       "      <td>13</td>\n",
       "      <td>0.91</td>\n",
       "    </tr>\n",
       "    <tr>\n",
       "      <th>176</th>\n",
       "      <td>192805</td>\n",
       "      <td>FLORIDA</td>\n",
       "      <td>MEASLES</td>\n",
       "      <td>7</td>\n",
       "      <td>0.49</td>\n",
       "    </tr>\n",
       "    <tr>\n",
       "      <th>...</th>\n",
       "      <td>...</td>\n",
       "      <td>...</td>\n",
       "      <td>...</td>\n",
       "      <td>...</td>\n",
       "      <td>...</td>\n",
       "    </tr>\n",
       "    <tr>\n",
       "      <th>145110</th>\n",
       "      <td>200246</td>\n",
       "      <td>FLORIDA</td>\n",
       "      <td>MEASLES</td>\n",
       "      <td>0</td>\n",
       "      <td>0.00</td>\n",
       "    </tr>\n",
       "    <tr>\n",
       "      <th>145121</th>\n",
       "      <td>200247</td>\n",
       "      <td>FLORIDA</td>\n",
       "      <td>MEASLES</td>\n",
       "      <td>0</td>\n",
       "      <td>0.00</td>\n",
       "    </tr>\n",
       "    <tr>\n",
       "      <th>145133</th>\n",
       "      <td>200248</td>\n",
       "      <td>FLORIDA</td>\n",
       "      <td>MEASLES</td>\n",
       "      <td>0</td>\n",
       "      <td>0.00</td>\n",
       "    </tr>\n",
       "    <tr>\n",
       "      <th>145143</th>\n",
       "      <td>200251</td>\n",
       "      <td>FLORIDA</td>\n",
       "      <td>MEASLES</td>\n",
       "      <td>0</td>\n",
       "      <td>0.00</td>\n",
       "    </tr>\n",
       "    <tr>\n",
       "      <th>145156</th>\n",
       "      <td>200252</td>\n",
       "      <td>FLORIDA</td>\n",
       "      <td>MEASLES</td>\n",
       "      <td>0</td>\n",
       "      <td>0.00</td>\n",
       "    </tr>\n",
       "  </tbody>\n",
       "</table>\n",
       "<p>3401 rows × 5 columns</p>\n",
       "</div>"
      ],
      "text/plain": [
       "          week state_name  disease  cases  incidence_per_capita\n",
       "7       192801    FLORIDA  MEASLES      3                  0.21\n",
       "49      192802    FLORIDA  MEASLES      7                  0.49\n",
       "89      192803    FLORIDA  MEASLES      6                  0.42\n",
       "132     192804    FLORIDA  MEASLES     13                  0.91\n",
       "176     192805    FLORIDA  MEASLES      7                  0.49\n",
       "...        ...        ...      ...    ...                   ...\n",
       "145110  200246    FLORIDA  MEASLES      0                  0.00\n",
       "145121  200247    FLORIDA  MEASLES      0                  0.00\n",
       "145133  200248    FLORIDA  MEASLES      0                  0.00\n",
       "145143  200251    FLORIDA  MEASLES      0                  0.00\n",
       "145156  200252    FLORIDA  MEASLES      0                  0.00\n",
       "\n",
       "[3401 rows x 5 columns]"
      ]
     },
     "execution_count": 23,
     "metadata": {},
     "output_type": "execute_result"
    }
   ],
   "source": [
    "#data values of state Florida\n",
    "\n",
    "\n",
    "b_flo = b['state_name']=='FLORIDA'\n",
    "flo=b[b_flo]\n",
    "flo"
   ]
  },
  {
   "cell_type": "code",
   "execution_count": 24,
   "id": "4dc1dc23",
   "metadata": {
    "scrolled": true
   },
   "outputs": [
    {
     "data": {
      "text/html": [
       "<div>\n",
       "<style scoped>\n",
       "    .dataframe tbody tr th:only-of-type {\n",
       "        vertical-align: middle;\n",
       "    }\n",
       "\n",
       "    .dataframe tbody tr th {\n",
       "        vertical-align: top;\n",
       "    }\n",
       "\n",
       "    .dataframe thead th {\n",
       "        text-align: right;\n",
       "    }\n",
       "</style>\n",
       "<table border=\"1\" class=\"dataframe\">\n",
       "  <thead>\n",
       "    <tr style=\"text-align: right;\">\n",
       "      <th></th>\n",
       "      <th>week</th>\n",
       "      <th>state_name</th>\n",
       "      <th>disease</th>\n",
       "      <th>cases</th>\n",
       "      <th>incidence_per_capita</th>\n",
       "    </tr>\n",
       "  </thead>\n",
       "  <tbody>\n",
       "    <tr>\n",
       "      <th>3</th>\n",
       "      <td>192801</td>\n",
       "      <td>CALIFORNIA</td>\n",
       "      <td>MEASLES</td>\n",
       "      <td>74</td>\n",
       "      <td>1.38</td>\n",
       "    </tr>\n",
       "    <tr>\n",
       "      <th>45</th>\n",
       "      <td>192802</td>\n",
       "      <td>CALIFORNIA</td>\n",
       "      <td>MEASLES</td>\n",
       "      <td>96</td>\n",
       "      <td>1.80</td>\n",
       "    </tr>\n",
       "    <tr>\n",
       "      <th>85</th>\n",
       "      <td>192803</td>\n",
       "      <td>CALIFORNIA</td>\n",
       "      <td>MEASLES</td>\n",
       "      <td>70</td>\n",
       "      <td>1.31</td>\n",
       "    </tr>\n",
       "    <tr>\n",
       "      <th>127</th>\n",
       "      <td>192804</td>\n",
       "      <td>CALIFORNIA</td>\n",
       "      <td>MEASLES</td>\n",
       "      <td>100</td>\n",
       "      <td>1.87</td>\n",
       "    </tr>\n",
       "    <tr>\n",
       "      <th>171</th>\n",
       "      <td>192805</td>\n",
       "      <td>CALIFORNIA</td>\n",
       "      <td>MEASLES</td>\n",
       "      <td>127</td>\n",
       "      <td>2.38</td>\n",
       "    </tr>\n",
       "    <tr>\n",
       "      <th>...</th>\n",
       "      <td>...</td>\n",
       "      <td>...</td>\n",
       "      <td>...</td>\n",
       "      <td>...</td>\n",
       "      <td>...</td>\n",
       "    </tr>\n",
       "    <tr>\n",
       "      <th>145109</th>\n",
       "      <td>200246</td>\n",
       "      <td>CALIFORNIA</td>\n",
       "      <td>MEASLES</td>\n",
       "      <td>0</td>\n",
       "      <td>0.00</td>\n",
       "    </tr>\n",
       "    <tr>\n",
       "      <th>145120</th>\n",
       "      <td>200247</td>\n",
       "      <td>CALIFORNIA</td>\n",
       "      <td>MEASLES</td>\n",
       "      <td>0</td>\n",
       "      <td>0.00</td>\n",
       "    </tr>\n",
       "    <tr>\n",
       "      <th>145132</th>\n",
       "      <td>200248</td>\n",
       "      <td>CALIFORNIA</td>\n",
       "      <td>MEASLES</td>\n",
       "      <td>0</td>\n",
       "      <td>0.00</td>\n",
       "    </tr>\n",
       "    <tr>\n",
       "      <th>145142</th>\n",
       "      <td>200251</td>\n",
       "      <td>CALIFORNIA</td>\n",
       "      <td>MEASLES</td>\n",
       "      <td>0</td>\n",
       "      <td>0.00</td>\n",
       "    </tr>\n",
       "    <tr>\n",
       "      <th>145155</th>\n",
       "      <td>200252</td>\n",
       "      <td>CALIFORNIA</td>\n",
       "      <td>MEASLES</td>\n",
       "      <td>0</td>\n",
       "      <td>0.00</td>\n",
       "    </tr>\n",
       "  </tbody>\n",
       "</table>\n",
       "<p>3664 rows × 5 columns</p>\n",
       "</div>"
      ],
      "text/plain": [
       "          week  state_name  disease  cases  incidence_per_capita\n",
       "3       192801  CALIFORNIA  MEASLES     74                  1.38\n",
       "45      192802  CALIFORNIA  MEASLES     96                  1.80\n",
       "85      192803  CALIFORNIA  MEASLES     70                  1.31\n",
       "127     192804  CALIFORNIA  MEASLES    100                  1.87\n",
       "171     192805  CALIFORNIA  MEASLES    127                  2.38\n",
       "...        ...         ...      ...    ...                   ...\n",
       "145109  200246  CALIFORNIA  MEASLES      0                  0.00\n",
       "145120  200247  CALIFORNIA  MEASLES      0                  0.00\n",
       "145132  200248  CALIFORNIA  MEASLES      0                  0.00\n",
       "145142  200251  CALIFORNIA  MEASLES      0                  0.00\n",
       "145155  200252  CALIFORNIA  MEASLES      0                  0.00\n",
       "\n",
       "[3664 rows x 5 columns]"
      ]
     },
     "execution_count": 24,
     "metadata": {},
     "output_type": "execute_result"
    }
   ],
   "source": [
    "#data values of state California\n",
    "\n",
    "\n",
    "b_cal = b['state_name']=='CALIFORNIA'\n",
    "cal=b[b_cal]\n",
    "cal"
   ]
  },
  {
   "cell_type": "code",
   "execution_count": 25,
   "id": "2842cea5",
   "metadata": {},
   "outputs": [
    {
     "data": {
      "text/html": [
       "<div>\n",
       "<style scoped>\n",
       "    .dataframe tbody tr th:only-of-type {\n",
       "        vertical-align: middle;\n",
       "    }\n",
       "\n",
       "    .dataframe tbody tr th {\n",
       "        vertical-align: top;\n",
       "    }\n",
       "\n",
       "    .dataframe thead th {\n",
       "        text-align: right;\n",
       "    }\n",
       "</style>\n",
       "<table border=\"1\" class=\"dataframe\">\n",
       "  <thead>\n",
       "    <tr style=\"text-align: right;\">\n",
       "      <th></th>\n",
       "      <th>week</th>\n",
       "      <th>state_name</th>\n",
       "      <th>disease</th>\n",
       "      <th>cases</th>\n",
       "      <th>incidence_per_capita</th>\n",
       "    </tr>\n",
       "  </thead>\n",
       "  <tbody>\n",
       "    <tr>\n",
       "      <th>8</th>\n",
       "      <td>192801</td>\n",
       "      <td>GEORGIA</td>\n",
       "      <td>MEASLES</td>\n",
       "      <td>34</td>\n",
       "      <td>1.17</td>\n",
       "    </tr>\n",
       "    <tr>\n",
       "      <th>50</th>\n",
       "      <td>192802</td>\n",
       "      <td>GEORGIA</td>\n",
       "      <td>MEASLES</td>\n",
       "      <td>173</td>\n",
       "      <td>5.96</td>\n",
       "    </tr>\n",
       "    <tr>\n",
       "      <th>133</th>\n",
       "      <td>192804</td>\n",
       "      <td>GEORGIA</td>\n",
       "      <td>MEASLES</td>\n",
       "      <td>251</td>\n",
       "      <td>8.65</td>\n",
       "    </tr>\n",
       "    <tr>\n",
       "      <th>177</th>\n",
       "      <td>192805</td>\n",
       "      <td>GEORGIA</td>\n",
       "      <td>MEASLES</td>\n",
       "      <td>314</td>\n",
       "      <td>10.82</td>\n",
       "    </tr>\n",
       "    <tr>\n",
       "      <th>222</th>\n",
       "      <td>192806</td>\n",
       "      <td>GEORGIA</td>\n",
       "      <td>MEASLES</td>\n",
       "      <td>196</td>\n",
       "      <td>6.75</td>\n",
       "    </tr>\n",
       "    <tr>\n",
       "      <th>...</th>\n",
       "      <td>...</td>\n",
       "      <td>...</td>\n",
       "      <td>...</td>\n",
       "      <td>...</td>\n",
       "      <td>...</td>\n",
       "    </tr>\n",
       "    <tr>\n",
       "      <th>144870</th>\n",
       "      <td>200150</td>\n",
       "      <td>GEORGIA</td>\n",
       "      <td>MEASLES</td>\n",
       "      <td>0</td>\n",
       "      <td>0.00</td>\n",
       "    </tr>\n",
       "    <tr>\n",
       "      <th>144892</th>\n",
       "      <td>200151</td>\n",
       "      <td>GEORGIA</td>\n",
       "      <td>MEASLES</td>\n",
       "      <td>0</td>\n",
       "      <td>0.00</td>\n",
       "    </tr>\n",
       "    <tr>\n",
       "      <th>144914</th>\n",
       "      <td>200152</td>\n",
       "      <td>GEORGIA</td>\n",
       "      <td>MEASLES</td>\n",
       "      <td>0</td>\n",
       "      <td>0.00</td>\n",
       "    </tr>\n",
       "    <tr>\n",
       "      <th>145144</th>\n",
       "      <td>200251</td>\n",
       "      <td>GEORGIA</td>\n",
       "      <td>MEASLES</td>\n",
       "      <td>0</td>\n",
       "      <td>0.00</td>\n",
       "    </tr>\n",
       "    <tr>\n",
       "      <th>145157</th>\n",
       "      <td>200252</td>\n",
       "      <td>GEORGIA</td>\n",
       "      <td>MEASLES</td>\n",
       "      <td>1</td>\n",
       "      <td>0.01</td>\n",
       "    </tr>\n",
       "  </tbody>\n",
       "</table>\n",
       "<p>2727 rows × 5 columns</p>\n",
       "</div>"
      ],
      "text/plain": [
       "          week state_name  disease  cases  incidence_per_capita\n",
       "8       192801    GEORGIA  MEASLES     34                  1.17\n",
       "50      192802    GEORGIA  MEASLES    173                  5.96\n",
       "133     192804    GEORGIA  MEASLES    251                  8.65\n",
       "177     192805    GEORGIA  MEASLES    314                 10.82\n",
       "222     192806    GEORGIA  MEASLES    196                  6.75\n",
       "...        ...        ...      ...    ...                   ...\n",
       "144870  200150    GEORGIA  MEASLES      0                  0.00\n",
       "144892  200151    GEORGIA  MEASLES      0                  0.00\n",
       "144914  200152    GEORGIA  MEASLES      0                  0.00\n",
       "145144  200251    GEORGIA  MEASLES      0                  0.00\n",
       "145157  200252    GEORGIA  MEASLES      1                  0.01\n",
       "\n",
       "[2727 rows x 5 columns]"
      ]
     },
     "execution_count": 25,
     "metadata": {},
     "output_type": "execute_result"
    }
   ],
   "source": [
    "#data values of state Georgia\n",
    "\n",
    "\n",
    "b_geo = b['state_name']=='GEORGIA'\n",
    "geo=b[b_geo]\n",
    "geo"
   ]
  },
  {
   "cell_type": "markdown",
   "id": "ce327585",
   "metadata": {},
   "source": [
    "### Randomly taking 5 states from data for analysing"
   ]
  },
  {
   "cell_type": "code",
   "execution_count": 37,
   "id": "d45db2ab",
   "metadata": {},
   "outputs": [
    {
     "data": {
      "text/html": [
       "<div>\n",
       "<style scoped>\n",
       "    .dataframe tbody tr th:only-of-type {\n",
       "        vertical-align: middle;\n",
       "    }\n",
       "\n",
       "    .dataframe tbody tr th {\n",
       "        vertical-align: top;\n",
       "    }\n",
       "\n",
       "    .dataframe thead th {\n",
       "        text-align: right;\n",
       "    }\n",
       "</style>\n",
       "<table border=\"1\" class=\"dataframe\">\n",
       "  <thead>\n",
       "    <tr style=\"text-align: right;\">\n",
       "      <th></th>\n",
       "      <th>week</th>\n",
       "      <th>state_name</th>\n",
       "      <th>disease</th>\n",
       "      <th>cases</th>\n",
       "      <th>incidence_per_capita</th>\n",
       "    </tr>\n",
       "  </thead>\n",
       "  <tbody>\n",
       "    <tr>\n",
       "      <th>0</th>\n",
       "      <td>195401</td>\n",
       "      <td>ALASKA</td>\n",
       "      <td>MEASLES</td>\n",
       "      <td>14</td>\n",
       "      <td>6.51</td>\n",
       "    </tr>\n",
       "    <tr>\n",
       "      <th>1</th>\n",
       "      <td>195402</td>\n",
       "      <td>ALASKA</td>\n",
       "      <td>MEASLES</td>\n",
       "      <td>30</td>\n",
       "      <td>13.95</td>\n",
       "    </tr>\n",
       "    <tr>\n",
       "      <th>2</th>\n",
       "      <td>195403</td>\n",
       "      <td>ALASKA</td>\n",
       "      <td>MEASLES</td>\n",
       "      <td>40</td>\n",
       "      <td>18.60</td>\n",
       "    </tr>\n",
       "    <tr>\n",
       "      <th>3</th>\n",
       "      <td>195404</td>\n",
       "      <td>ALASKA</td>\n",
       "      <td>MEASLES</td>\n",
       "      <td>16</td>\n",
       "      <td>7.44</td>\n",
       "    </tr>\n",
       "    <tr>\n",
       "      <th>4</th>\n",
       "      <td>195405</td>\n",
       "      <td>ALASKA</td>\n",
       "      <td>MEASLES</td>\n",
       "      <td>56</td>\n",
       "      <td>26.05</td>\n",
       "    </tr>\n",
       "    <tr>\n",
       "      <th>...</th>\n",
       "      <td>...</td>\n",
       "      <td>...</td>\n",
       "      <td>...</td>\n",
       "      <td>...</td>\n",
       "      <td>...</td>\n",
       "    </tr>\n",
       "    <tr>\n",
       "      <th>14553</th>\n",
       "      <td>200150</td>\n",
       "      <td>GEORGIA</td>\n",
       "      <td>MEASLES</td>\n",
       "      <td>0</td>\n",
       "      <td>0.00</td>\n",
       "    </tr>\n",
       "    <tr>\n",
       "      <th>14554</th>\n",
       "      <td>200151</td>\n",
       "      <td>GEORGIA</td>\n",
       "      <td>MEASLES</td>\n",
       "      <td>0</td>\n",
       "      <td>0.00</td>\n",
       "    </tr>\n",
       "    <tr>\n",
       "      <th>14555</th>\n",
       "      <td>200152</td>\n",
       "      <td>GEORGIA</td>\n",
       "      <td>MEASLES</td>\n",
       "      <td>0</td>\n",
       "      <td>0.00</td>\n",
       "    </tr>\n",
       "    <tr>\n",
       "      <th>14556</th>\n",
       "      <td>200251</td>\n",
       "      <td>GEORGIA</td>\n",
       "      <td>MEASLES</td>\n",
       "      <td>0</td>\n",
       "      <td>0.00</td>\n",
       "    </tr>\n",
       "    <tr>\n",
       "      <th>14557</th>\n",
       "      <td>200252</td>\n",
       "      <td>GEORGIA</td>\n",
       "      <td>MEASLES</td>\n",
       "      <td>1</td>\n",
       "      <td>0.01</td>\n",
       "    </tr>\n",
       "  </tbody>\n",
       "</table>\n",
       "<p>14558 rows × 5 columns</p>\n",
       "</div>"
      ],
      "text/plain": [
       "         week state_name  disease  cases  incidence_per_capita\n",
       "0      195401     ALASKA  MEASLES     14                  6.51\n",
       "1      195402     ALASKA  MEASLES     30                 13.95\n",
       "2      195403     ALASKA  MEASLES     40                 18.60\n",
       "3      195404     ALASKA  MEASLES     16                  7.44\n",
       "4      195405     ALASKA  MEASLES     56                 26.05\n",
       "...       ...        ...      ...    ...                   ...\n",
       "14553  200150    GEORGIA  MEASLES      0                  0.00\n",
       "14554  200151    GEORGIA  MEASLES      0                  0.00\n",
       "14555  200152    GEORGIA  MEASLES      0                  0.00\n",
       "14556  200251    GEORGIA  MEASLES      0                  0.00\n",
       "14557  200252    GEORGIA  MEASLES      1                  0.01\n",
       "\n",
       "[14558 rows x 5 columns]"
      ]
     },
     "execution_count": 37,
     "metadata": {},
     "output_type": "execute_result"
    }
   ],
   "source": [
    "c = pd.concat([alaska,texas,flo,cal,geo], ignore_index=True)  #concating the 5 state datas and storing c\n",
    "c"
   ]
  },
  {
   "cell_type": "markdown",
   "id": "578f2059",
   "metadata": {},
   "source": [
    "## Number of Cases by State "
   ]
  },
  {
   "cell_type": "code",
   "execution_count": 15,
   "id": "c46c8136",
   "metadata": {},
   "outputs": [
    {
     "data": {
      "image/png": "[encoded data removed]",
      "text/plain": [
       "<Figure size 640x480 with 1 Axes>"
      ]
     },
     "metadata": {},
     "output_type": "display_data"
    }
   ],
   "source": [
    "sns.barplot(data=c, y='state_name',x='cases', hue='state_name') \n",
    "plt.grid()        \n",
    "\n",
    "          #plot shows no:of cases is greater in California"
   ]
  },
  {
   "cell_type": "markdown",
   "id": "5cf8ab14",
   "metadata": {},
   "source": [
    "### Incidence per Capita Across States"
   ]
  },
  {
   "cell_type": "code",
   "execution_count": 16,
   "id": "25164068",
   "metadata": {},
   "outputs": [
    {
     "data": {
      "text/plain": [
       "<Axes: xlabel='state_name', ylabel='incidence_per_capita'>"
      ]
     },
     "execution_count": 16,
     "metadata": {},
     "output_type": "execute_result"
    },
    {
     "data": {
      "image/png": "[encoded data removed]",
      "text/plain": [
       "<Figure size 640x480 with 1 Axes>"
      ]
     },
     "metadata": {},
     "output_type": "display_data"
    }
   ],
   "source": [
    "sns.scatterplot(data=c, x='state_name', y='incidence_per_capita', hue='state_name', marker='o') \n",
    "                                                                             # incidence per capita is greater in alaska"
   ]
  },
  {
   "cell_type": "markdown",
   "id": "e9aaf88b",
   "metadata": {},
   "source": [
    "### Relationship between Cases and Incidence per Capita Across State"
   ]
  },
  {
   "cell_type": "code",
   "execution_count": 17,
   "id": "1a69e7cc",
   "metadata": {},
   "outputs": [
    {
     "data": {
      "text/plain": [
       "<Axes: xlabel='cases', ylabel='incidence_per_capita'>"
      ]
     },
     "execution_count": 17,
     "metadata": {},
     "output_type": "execute_result"
    },
    {
     "data": {
      "image/png": "[encoded data removed]",
      "text/plain": [
       "<Figure size 640x480 with 1 Axes>"
      ]
     },
     "metadata": {},
     "output_type": "display_data"
    }
   ],
   "source": [
    "sns.scatterplot(data=c, x='cases', y='incidence_per_capita', hue='state_name', marker='o')\n",
    "\n",
    "                \n",
    "# more incidence_per_capita - ALASKA"
   ]
  },
  {
   "cell_type": "markdown",
   "id": "d857b12d",
   "metadata": {},
   "source": [
    "### Encoding data"
   ]
  },
  {
   "cell_type": "code",
   "execution_count": 58,
   "id": "1792a3dc",
   "metadata": {},
   "outputs": [],
   "source": [
    "import warnings                                      # To remove warning\n",
    "warnings.filterwarnings(\"ignore\")"
   ]
  },
  {
   "cell_type": "code",
   "execution_count": 59,
   "id": "d42328da",
   "metadata": {},
   "outputs": [],
   "source": [
    "from sklearn.preprocessing import LabelEncoder   # To convert string values to numericals"
   ]
  },
  {
   "cell_type": "code",
   "execution_count": 60,
   "id": "d9365764",
   "metadata": {},
   "outputs": [
    {
     "data": {
      "text/html": [
       "<div>\n",
       "<style scoped>\n",
       "    .dataframe tbody tr th:only-of-type {\n",
       "        vertical-align: middle;\n",
       "    }\n",
       "\n",
       "    .dataframe tbody tr th {\n",
       "        vertical-align: top;\n",
       "    }\n",
       "\n",
       "    .dataframe thead th {\n",
       "        text-align: right;\n",
       "    }\n",
       "</style>\n",
       "<table border=\"1\" class=\"dataframe\">\n",
       "  <thead>\n",
       "    <tr style=\"text-align: right;\">\n",
       "      <th></th>\n",
       "      <th>week</th>\n",
       "      <th>state_name</th>\n",
       "      <th>disease</th>\n",
       "      <th>cases</th>\n",
       "      <th>incidence_per_capita</th>\n",
       "    </tr>\n",
       "  </thead>\n",
       "  <tbody>\n",
       "    <tr>\n",
       "      <th>0</th>\n",
       "      <td>195401</td>\n",
       "      <td>0</td>\n",
       "      <td>0</td>\n",
       "      <td>14</td>\n",
       "      <td>6.51</td>\n",
       "    </tr>\n",
       "    <tr>\n",
       "      <th>1</th>\n",
       "      <td>195402</td>\n",
       "      <td>0</td>\n",
       "      <td>0</td>\n",
       "      <td>30</td>\n",
       "      <td>13.95</td>\n",
       "    </tr>\n",
       "    <tr>\n",
       "      <th>2</th>\n",
       "      <td>195403</td>\n",
       "      <td>0</td>\n",
       "      <td>0</td>\n",
       "      <td>40</td>\n",
       "      <td>18.60</td>\n",
       "    </tr>\n",
       "    <tr>\n",
       "      <th>3</th>\n",
       "      <td>195404</td>\n",
       "      <td>0</td>\n",
       "      <td>0</td>\n",
       "      <td>16</td>\n",
       "      <td>7.44</td>\n",
       "    </tr>\n",
       "    <tr>\n",
       "      <th>4</th>\n",
       "      <td>195405</td>\n",
       "      <td>0</td>\n",
       "      <td>0</td>\n",
       "      <td>56</td>\n",
       "      <td>26.05</td>\n",
       "    </tr>\n",
       "    <tr>\n",
       "      <th>...</th>\n",
       "      <td>...</td>\n",
       "      <td>...</td>\n",
       "      <td>...</td>\n",
       "      <td>...</td>\n",
       "      <td>...</td>\n",
       "    </tr>\n",
       "    <tr>\n",
       "      <th>14553</th>\n",
       "      <td>200150</td>\n",
       "      <td>3</td>\n",
       "      <td>0</td>\n",
       "      <td>0</td>\n",
       "      <td>0.00</td>\n",
       "    </tr>\n",
       "    <tr>\n",
       "      <th>14554</th>\n",
       "      <td>200151</td>\n",
       "      <td>3</td>\n",
       "      <td>0</td>\n",
       "      <td>0</td>\n",
       "      <td>0.00</td>\n",
       "    </tr>\n",
       "    <tr>\n",
       "      <th>14555</th>\n",
       "      <td>200152</td>\n",
       "      <td>3</td>\n",
       "      <td>0</td>\n",
       "      <td>0</td>\n",
       "      <td>0.00</td>\n",
       "    </tr>\n",
       "    <tr>\n",
       "      <th>14556</th>\n",
       "      <td>200251</td>\n",
       "      <td>3</td>\n",
       "      <td>0</td>\n",
       "      <td>0</td>\n",
       "      <td>0.00</td>\n",
       "    </tr>\n",
       "    <tr>\n",
       "      <th>14557</th>\n",
       "      <td>200252</td>\n",
       "      <td>3</td>\n",
       "      <td>0</td>\n",
       "      <td>1</td>\n",
       "      <td>0.01</td>\n",
       "    </tr>\n",
       "  </tbody>\n",
       "</table>\n",
       "<p>14558 rows × 5 columns</p>\n",
       "</div>"
      ],
      "text/plain": [
       "         week  state_name  disease  cases  incidence_per_capita\n",
       "0      195401           0        0     14                  6.51\n",
       "1      195402           0        0     30                 13.95\n",
       "2      195403           0        0     40                 18.60\n",
       "3      195404           0        0     16                  7.44\n",
       "4      195405           0        0     56                 26.05\n",
       "...       ...         ...      ...    ...                   ...\n",
       "14553  200150           3        0      0                  0.00\n",
       "14554  200151           3        0      0                  0.00\n",
       "14555  200152           3        0      0                  0.00\n",
       "14556  200251           3        0      0                  0.00\n",
       "14557  200252           3        0      1                  0.01\n",
       "\n",
       "[14558 rows x 5 columns]"
      ]
     },
     "execution_count": 60,
     "metadata": {},
     "output_type": "execute_result"
    }
   ],
   "source": [
    "le=LabelEncoder()\n",
    "c[\"state_name\"] = le.fit_transform(c[\"state_name\"])\n",
    "c\n"
   ]
  },
  {
   "cell_type": "code",
   "execution_count": 61,
   "id": "0e1c39d1",
   "metadata": {},
   "outputs": [
    {
     "data": {
      "text/html": [
       "<div>\n",
       "<style scoped>\n",
       "    .dataframe tbody tr th:only-of-type {\n",
       "        vertical-align: middle;\n",
       "    }\n",
       "\n",
       "    .dataframe tbody tr th {\n",
       "        vertical-align: top;\n",
       "    }\n",
       "\n",
       "    .dataframe thead th {\n",
       "        text-align: right;\n",
       "    }\n",
       "</style>\n",
       "<table border=\"1\" class=\"dataframe\">\n",
       "  <thead>\n",
       "    <tr style=\"text-align: right;\">\n",
       "      <th></th>\n",
       "      <th>week</th>\n",
       "      <th>state_name</th>\n",
       "      <th>disease</th>\n",
       "      <th>cases</th>\n",
       "      <th>incidence_per_capita</th>\n",
       "    </tr>\n",
       "  </thead>\n",
       "  <tbody>\n",
       "    <tr>\n",
       "      <th>0</th>\n",
       "      <td>195401</td>\n",
       "      <td>0</td>\n",
       "      <td>0</td>\n",
       "      <td>14</td>\n",
       "      <td>6.51</td>\n",
       "    </tr>\n",
       "    <tr>\n",
       "      <th>1</th>\n",
       "      <td>195402</td>\n",
       "      <td>0</td>\n",
       "      <td>0</td>\n",
       "      <td>30</td>\n",
       "      <td>13.95</td>\n",
       "    </tr>\n",
       "    <tr>\n",
       "      <th>2</th>\n",
       "      <td>195403</td>\n",
       "      <td>0</td>\n",
       "      <td>0</td>\n",
       "      <td>40</td>\n",
       "      <td>18.60</td>\n",
       "    </tr>\n",
       "    <tr>\n",
       "      <th>3</th>\n",
       "      <td>195404</td>\n",
       "      <td>0</td>\n",
       "      <td>0</td>\n",
       "      <td>16</td>\n",
       "      <td>7.44</td>\n",
       "    </tr>\n",
       "    <tr>\n",
       "      <th>4</th>\n",
       "      <td>195405</td>\n",
       "      <td>0</td>\n",
       "      <td>0</td>\n",
       "      <td>56</td>\n",
       "      <td>26.05</td>\n",
       "    </tr>\n",
       "    <tr>\n",
       "      <th>...</th>\n",
       "      <td>...</td>\n",
       "      <td>...</td>\n",
       "      <td>...</td>\n",
       "      <td>...</td>\n",
       "      <td>...</td>\n",
       "    </tr>\n",
       "    <tr>\n",
       "      <th>14553</th>\n",
       "      <td>200150</td>\n",
       "      <td>3</td>\n",
       "      <td>0</td>\n",
       "      <td>0</td>\n",
       "      <td>0.00</td>\n",
       "    </tr>\n",
       "    <tr>\n",
       "      <th>14554</th>\n",
       "      <td>200151</td>\n",
       "      <td>3</td>\n",
       "      <td>0</td>\n",
       "      <td>0</td>\n",
       "      <td>0.00</td>\n",
       "    </tr>\n",
       "    <tr>\n",
       "      <th>14555</th>\n",
       "      <td>200152</td>\n",
       "      <td>3</td>\n",
       "      <td>0</td>\n",
       "      <td>0</td>\n",
       "      <td>0.00</td>\n",
       "    </tr>\n",
       "    <tr>\n",
       "      <th>14556</th>\n",
       "      <td>200251</td>\n",
       "      <td>3</td>\n",
       "      <td>0</td>\n",
       "      <td>0</td>\n",
       "      <td>0.00</td>\n",
       "    </tr>\n",
       "    <tr>\n",
       "      <th>14557</th>\n",
       "      <td>200252</td>\n",
       "      <td>3</td>\n",
       "      <td>0</td>\n",
       "      <td>1</td>\n",
       "      <td>0.01</td>\n",
       "    </tr>\n",
       "  </tbody>\n",
       "</table>\n",
       "<p>14558 rows × 5 columns</p>\n",
       "</div>"
      ],
      "text/plain": [
       "         week  state_name  disease  cases  incidence_per_capita\n",
       "0      195401           0        0     14                  6.51\n",
       "1      195402           0        0     30                 13.95\n",
       "2      195403           0        0     40                 18.60\n",
       "3      195404           0        0     16                  7.44\n",
       "4      195405           0        0     56                 26.05\n",
       "...       ...         ...      ...    ...                   ...\n",
       "14553  200150           3        0      0                  0.00\n",
       "14554  200151           3        0      0                  0.00\n",
       "14555  200152           3        0      0                  0.00\n",
       "14556  200251           3        0      0                  0.00\n",
       "14557  200252           3        0      1                  0.01\n",
       "\n",
       "[14558 rows x 5 columns]"
      ]
     },
     "execution_count": 61,
     "metadata": {},
     "output_type": "execute_result"
    }
   ],
   "source": [
    "le=LabelEncoder()\n",
    "c[\"disease\"] = le.fit_transform(c[\"disease\"])\n",
    "c"
   ]
  },
  {
   "cell_type": "code",
   "execution_count": 19,
   "id": "6d1c90b2",
   "metadata": {},
   "outputs": [
    {
     "data": {
      "image/png": "[encoded data removed]",
      "text/plain": [
       "<Figure size 640x480 with 2 Axes>"
      ]
     },
     "metadata": {},
     "output_type": "display_data"
    }
   ],
   "source": [
    "#heatmap representing the relationshp b/w the variables\n",
    "\n",
    "sns.heatmap(c.corr(), cbar=True, linewidth=0.5)\n",
    "plt.show()"
   ]
  },
  {
   "cell_type": "markdown",
   "id": "f06a6639",
   "metadata": {},
   "source": [
    "# Data Prediction"
   ]
  },
  {
   "cell_type": "markdown",
   "id": "ac373fbb",
   "metadata": {},
   "source": [
    "#### Here in the data ,independent features are week,statename,incidence per capita  ,dependent or target feature is cases "
   ]
  },
  {
   "cell_type": "code",
   "execution_count": 42,
   "id": "6c38df44",
   "metadata": {},
   "outputs": [
    {
     "data": {
      "text/plain": [
       "array([[1.95401e+05, 0.00000e+00, 0.00000e+00, 6.51000e+00],\n",
       "       [1.95402e+05, 0.00000e+00, 0.00000e+00, 1.39500e+01],\n",
       "       [1.95403e+05, 0.00000e+00, 0.00000e+00, 1.86000e+01],\n",
       "       ...,\n",
       "       [2.00152e+05, 3.00000e+00, 0.00000e+00, 0.00000e+00],\n",
       "       [2.00251e+05, 3.00000e+00, 0.00000e+00, 0.00000e+00],\n",
       "       [2.00252e+05, 3.00000e+00, 0.00000e+00, 1.00000e-02]])"
      ]
     },
     "execution_count": 42,
     "metadata": {},
     "output_type": "execute_result"
    }
   ],
   "source": [
    "#Slicing the indenpent features\n",
    "\n",
    "x=c.iloc[:,[0,1,2,4]].values\n",
    "x                                    "
   ]
  },
  {
   "cell_type": "code",
   "execution_count": 43,
   "id": "caa08071",
   "metadata": {},
   "outputs": [
    {
     "data": {
      "text/plain": [
       "array([14, 30, 40, ...,  0,  0,  1], dtype=int64)"
      ]
     },
     "execution_count": 43,
     "metadata": {},
     "output_type": "execute_result"
    }
   ],
   "source": [
    "# slicing the dependent value\n",
    "y=c.iloc[:,3].values                  \n",
    "y"
   ]
  },
  {
   "cell_type": "code",
   "execution_count": 44,
   "id": "d891d6c6",
   "metadata": {},
   "outputs": [],
   "source": [
    "from sklearn.model_selection import train_test_split                     # train,test splitting"
   ]
  },
  {
   "cell_type": "code",
   "execution_count": 45,
   "id": "a2c589b4",
   "metadata": {},
   "outputs": [],
   "source": [
    "x_train,x_test,y_train,y_test=train_test_split(x,y,test_size=80,random_state=35)"
   ]
  },
  {
   "cell_type": "code",
   "execution_count": 46,
   "id": "e24c30bb",
   "metadata": {},
   "outputs": [
    {
     "data": {
      "text/plain": [
       "array([[1.98718e+05, 2.00000e+00, 0.00000e+00, 6.00000e-02],\n",
       "       [1.94004e+05, 3.00000e+00, 0.00000e+00, 1.01000e+00],\n",
       "       [1.94508e+05, 4.00000e+00, 0.00000e+00, 4.97000e+00],\n",
       "       [1.98548e+05, 2.00000e+00, 0.00000e+00, 7.00000e-02],\n",
       "       [1.95226e+05, 3.00000e+00, 0.00000e+00, 3.52000e+00],\n",
       "       [1.98927e+05, 4.00000e+00, 0.00000e+00, 0.00000e+00],\n",
       "       [1.99634e+05, 4.00000e+00, 0.00000e+00, 1.00000e-02],\n",
       "       [1.94842e+05, 2.00000e+00, 0.00000e+00, 1.90000e-01],\n",
       "       [1.97239e+05, 3.00000e+00, 0.00000e+00, 0.00000e+00],\n",
       "       [1.99038e+05, 3.00000e+00, 0.00000e+00, 0.00000e+00],\n",
       "       [1.98040e+05, 0.00000e+00, 0.00000e+00, 0.00000e+00],\n",
       "       [1.93543e+05, 2.00000e+00, 0.00000e+00, 6.00000e-02],\n",
       "       [1.93621e+05, 1.00000e+00, 0.00000e+00, 3.30500e+01],\n",
       "       [1.98003e+05, 1.00000e+00, 0.00000e+00, 2.00000e-02],\n",
       "       [1.93122e+05, 4.00000e+00, 0.00000e+00, 1.51000e+00],\n",
       "       [1.94729e+05, 3.00000e+00, 0.00000e+00, 7.90000e-01],\n",
       "       [1.99437e+05, 1.00000e+00, 0.00000e+00, 0.00000e+00],\n",
       "       [1.96721e+05, 2.00000e+00, 0.00000e+00, 9.50000e-01],\n",
       "       [1.99909e+05, 4.00000e+00, 0.00000e+00, 0.00000e+00],\n",
       "       [1.96740e+05, 3.00000e+00, 0.00000e+00, 0.00000e+00],\n",
       "       [1.99613e+05, 0.00000e+00, 0.00000e+00, 0.00000e+00],\n",
       "       [1.98838e+05, 2.00000e+00, 0.00000e+00, 1.30000e-01],\n",
       "       [1.96605e+05, 0.00000e+00, 0.00000e+00, 3.70000e-01],\n",
       "       [1.95551e+05, 0.00000e+00, 0.00000e+00, 4.50000e-01],\n",
       "       [1.95718e+05, 4.00000e+00, 0.00000e+00, 1.75100e+01],\n",
       "       [1.98540e+05, 2.00000e+00, 0.00000e+00, 0.00000e+00],\n",
       "       [1.99214e+05, 0.00000e+00, 0.00000e+00, 0.00000e+00],\n",
       "       [1.95830e+05, 3.00000e+00, 0.00000e+00, 1.97000e+00],\n",
       "       [1.96204e+05, 4.00000e+00, 0.00000e+00, 1.69300e+01],\n",
       "       [1.99846e+05, 3.00000e+00, 0.00000e+00, 0.00000e+00],\n",
       "       [1.97337e+05, 0.00000e+00, 0.00000e+00, 0.00000e+00],\n",
       "       [1.93507e+05, 1.00000e+00, 0.00000e+00, 8.58000e+00],\n",
       "       [1.98506e+05, 1.00000e+00, 0.00000e+00, 1.00000e-02],\n",
       "       [1.93546e+05, 1.00000e+00, 0.00000e+00, 2.27000e+00],\n",
       "       [1.93123e+05, 3.00000e+00, 0.00000e+00, 2.39000e+00],\n",
       "       [1.99647e+05, 0.00000e+00, 0.00000e+00, 0.00000e+00],\n",
       "       [1.95505e+05, 3.00000e+00, 0.00000e+00, 2.15000e+00],\n",
       "       [1.96732e+05, 0.00000e+00, 0.00000e+00, 3.60000e-01],\n",
       "       [1.95718e+05, 1.00000e+00, 0.00000e+00, 1.53200e+01],\n",
       "       [1.94621e+05, 2.00000e+00, 0.00000e+00, 4.43000e+00],\n",
       "       [1.97403e+05, 4.00000e+00, 0.00000e+00, 4.00000e-02],\n",
       "       [1.92901e+05, 3.00000e+00, 0.00000e+00, 7.90000e-01],\n",
       "       [1.95341e+05, 1.00000e+00, 0.00000e+00, 1.02000e+00],\n",
       "       [1.96149e+05, 4.00000e+00, 0.00000e+00, 2.83000e+00],\n",
       "       [1.95828e+05, 2.00000e+00, 0.00000e+00, 1.84000e+00],\n",
       "       [2.00118e+05, 4.00000e+00, 0.00000e+00, 0.00000e+00],\n",
       "       [1.94810e+05, 3.00000e+00, 0.00000e+00, 1.07000e+00],\n",
       "       [1.94936e+05, 2.00000e+00, 0.00000e+00, 4.00000e-02],\n",
       "       [1.96746e+05, 4.00000e+00, 0.00000e+00, 5.00000e-01],\n",
       "       [1.94103e+05, 3.00000e+00, 0.00000e+00, 2.01000e+00],\n",
       "       [1.98419e+05, 4.00000e+00, 0.00000e+00, 1.60000e-01],\n",
       "       [1.95401e+05, 1.00000e+00, 0.00000e+00, 4.87000e+00],\n",
       "       [1.96820e+05, 2.00000e+00, 0.00000e+00, 3.70000e-01],\n",
       "       [1.98647e+05, 4.00000e+00, 0.00000e+00, 0.00000e+00],\n",
       "       [1.99650e+05, 4.00000e+00, 0.00000e+00, 0.00000e+00],\n",
       "       [1.98117e+05, 4.00000e+00, 0.00000e+00, 4.00000e-01],\n",
       "       [1.97125e+05, 1.00000e+00, 0.00000e+00, 4.70000e-01],\n",
       "       [2.00037e+05, 0.00000e+00, 0.00000e+00, 0.00000e+00],\n",
       "       [1.93752e+05, 1.00000e+00, 0.00000e+00, 7.40000e-01],\n",
       "       [1.99521e+05, 2.00000e+00, 0.00000e+00, 0.00000e+00],\n",
       "       [1.92827e+05, 3.00000e+00, 0.00000e+00, 1.62000e+00],\n",
       "       [1.96807e+05, 2.00000e+00, 0.00000e+00, 2.30000e-01],\n",
       "       [1.96539e+05, 4.00000e+00, 0.00000e+00, 6.80000e-01],\n",
       "       [1.97744e+05, 2.00000e+00, 0.00000e+00, 3.00000e-02],\n",
       "       [1.94932e+05, 4.00000e+00, 0.00000e+00, 5.50000e-01],\n",
       "       [1.95633e+05, 0.00000e+00, 0.00000e+00, 8.48000e+00],\n",
       "       [1.99115e+05, 2.00000e+00, 0.00000e+00, 1.00000e-02],\n",
       "       [1.93111e+05, 1.00000e+00, 0.00000e+00, 2.36600e+01],\n",
       "       [1.94812e+05, 1.00000e+00, 0.00000e+00, 2.04800e+01],\n",
       "       [1.96141e+05, 4.00000e+00, 0.00000e+00, 8.70000e-01],\n",
       "       [1.95406e+05, 1.00000e+00, 0.00000e+00, 6.97000e+00],\n",
       "       [1.98148e+05, 1.00000e+00, 0.00000e+00, 0.00000e+00],\n",
       "       [1.94818e+05, 4.00000e+00, 0.00000e+00, 3.65700e+01],\n",
       "       [1.98030e+05, 1.00000e+00, 0.00000e+00, 1.00000e-01],\n",
       "       [1.93749e+05, 2.00000e+00, 0.00000e+00, 2.46000e+00],\n",
       "       [1.97110e+05, 1.00000e+00, 0.00000e+00, 3.80000e-01],\n",
       "       [1.95144e+05, 1.00000e+00, 0.00000e+00, 8.60000e-01],\n",
       "       [1.95819e+05, 3.00000e+00, 0.00000e+00, 1.69800e+01],\n",
       "       [1.95510e+05, 4.00000e+00, 0.00000e+00, 1.96000e+01],\n",
       "       [1.93147e+05, 2.00000e+00, 0.00000e+00, 7.00000e-02]])"
      ]
     },
     "execution_count": 46,
     "metadata": {},
     "output_type": "execute_result"
    }
   ],
   "source": [
    "x_test"
   ]
  },
  {
   "cell_type": "code",
   "execution_count": 47,
   "id": "559776d2",
   "metadata": {},
   "outputs": [
    {
     "data": {
      "text/plain": [
       "array([[1.94850e+05, 4.00000e+00, 0.00000e+00, 9.34000e+00],\n",
       "       [1.93444e+05, 2.00000e+00, 0.00000e+00, 6.00000e-02],\n",
       "       [1.98951e+05, 1.00000e+00, 0.00000e+00, 5.30000e-01],\n",
       "       ...,\n",
       "       [1.94718e+05, 1.00000e+00, 0.00000e+00, 2.44000e+00],\n",
       "       [1.99638e+05, 0.00000e+00, 0.00000e+00, 0.00000e+00],\n",
       "       [1.95040e+05, 2.00000e+00, 0.00000e+00, 1.80000e-01]])"
      ]
     },
     "execution_count": 47,
     "metadata": {},
     "output_type": "execute_result"
    }
   ],
   "source": [
    "x_train"
   ]
  },
  {
   "cell_type": "code",
   "execution_count": 48,
   "id": "f6b09e3d",
   "metadata": {},
   "outputs": [
    {
     "data": {
      "text/plain": [
       "array([712,   1, 159, ..., 240,   0,   5], dtype=int64)"
      ]
     },
     "execution_count": 48,
     "metadata": {},
     "output_type": "execute_result"
    }
   ],
   "source": [
    "y_train"
   ]
  },
  {
   "cell_type": "code",
   "execution_count": 49,
   "id": "8c36b3f2",
   "metadata": {},
   "outputs": [
    {
     "data": {
      "text/plain": [
       "array([   7,   32,  339,    8,  126,    0,    1,    5,    0,    0,    0,\n",
       "          1, 2096,    6,   89,   26,    1,   59,    0,    0,    0,   17,\n",
       "          1,    1, 1588,    0,    0,   75, 1702,    0,    0,  530,    2,\n",
       "        140,   70,    0,   78,    1, 2185,  108,    5,   23,  125,  278,\n",
       "         85,    0,   35,    1,   53,   64,   26,  621,   24,    0,    0,\n",
       "         62,   96,    0,   48,    0,   47,   15,   71,    3,   42,   19,\n",
       "          1, 1378, 2061,   85,  888,    1, 2789,   25,   42,   79,   96,\n",
       "        646, 1697,    1], dtype=int64)"
      ]
     },
     "execution_count": 49,
     "metadata": {},
     "output_type": "execute_result"
    }
   ],
   "source": [
    "y_test"
   ]
  },
  {
   "cell_type": "markdown",
   "id": "64ce3f82",
   "metadata": {},
   "source": [
    "## Linear Regression"
   ]
  },
  {
   "cell_type": "code",
   "execution_count": 50,
   "id": "289600c5",
   "metadata": {},
   "outputs": [],
   "source": [
    "from sklearn.linear_model import LinearRegression"
   ]
  },
  {
   "cell_type": "code",
   "execution_count": 51,
   "id": "6b3fb4d5",
   "metadata": {},
   "outputs": [
    {
     "data": {
      "text/html": [
       "<style>#sk-container-id-1 {color: black;}#sk-container-id-1 pre{padding: 0;}#sk-container-id-1 div.sk-toggleable {background-color: white;}#sk-container-id-1 label.sk-toggleable__label {cursor: pointer;display: block;width: 100%;margin-bottom: 0;padding: 0.3em;box-sizing: border-box;text-align: center;}#sk-container-id-1 label.sk-toggleable__label-arrow:before {content: \"▸\";float: left;margin-right: 0.25em;color: #696969;}#sk-container-id-1 label.sk-toggleable__label-arrow:hover:before {color: black;}#sk-container-id-1 div.sk-estimator:hover label.sk-toggleable__label-arrow:before {color: black;}#sk-container-id-1 div.sk-toggleable__content {max-height: 0;max-width: 0;overflow: hidden;text-align: left;background-color: #f0f8ff;}#sk-container-id-1 div.sk-toggleable__content pre {margin: 0.2em;color: black;border-radius: 0.25em;background-color: #f0f8ff;}#sk-container-id-1 input.sk-toggleable__control:checked~div.sk-toggleable__content {max-height: 200px;max-width: 100%;overflow: auto;}#sk-container-id-1 input.sk-toggleable__control:checked~label.sk-toggleable__label-arrow:before {content: \"▾\";}#sk-container-id-1 div.sk-estimator input.sk-toggleable__control:checked~label.sk-toggleable__label {background-color: #d4ebff;}#sk-container-id-1 div.sk-label input.sk-toggleable__control:checked~label.sk-toggleable__label {background-color: #d4ebff;}#sk-container-id-1 input.sk-hidden--visually {border: 0;clip: rect(1px 1px 1px 1px);clip: rect(1px, 1px, 1px, 1px);height: 1px;margin: -1px;overflow: hidden;padding: 0;position: absolute;width: 1px;}#sk-container-id-1 div.sk-estimator {font-family: monospace;background-color: #f0f8ff;border: 1px dotted black;border-radius: 0.25em;box-sizing: border-box;margin-bottom: 0.5em;}#sk-container-id-1 div.sk-estimator:hover {background-color: #d4ebff;}#sk-container-id-1 div.sk-parallel-item::after {content: \"\";width: 100%;border-bottom: 1px solid gray;flex-grow: 1;}#sk-container-id-1 div.sk-label:hover label.sk-toggleable__label {background-color: #d4ebff;}#sk-container-id-1 div.sk-serial::before {content: \"\";position: absolute;border-left: 1px solid gray;box-sizing: border-box;top: 0;bottom: 0;left: 50%;z-index: 0;}#sk-container-id-1 div.sk-serial {display: flex;flex-direction: column;align-items: center;background-color: white;padding-right: 0.2em;padding-left: 0.2em;position: relative;}#sk-container-id-1 div.sk-item {position: relative;z-index: 1;}#sk-container-id-1 div.sk-parallel {display: flex;align-items: stretch;justify-content: center;background-color: white;position: relative;}#sk-container-id-1 div.sk-item::before, #sk-container-id-1 div.sk-parallel-item::before {content: \"\";position: absolute;border-left: 1px solid gray;box-sizing: border-box;top: 0;bottom: 0;left: 50%;z-index: -1;}#sk-container-id-1 div.sk-parallel-item {display: flex;flex-direction: column;z-index: 1;position: relative;background-color: white;}#sk-container-id-1 div.sk-parallel-item:first-child::after {align-self: flex-end;width: 50%;}#sk-container-id-1 div.sk-parallel-item:last-child::after {align-self: flex-start;width: 50%;}#sk-container-id-1 div.sk-parallel-item:only-child::after {width: 0;}#sk-container-id-1 div.sk-dashed-wrapped {border: 1px dashed gray;margin: 0 0.4em 0.5em 0.4em;box-sizing: border-box;padding-bottom: 0.4em;background-color: white;}#sk-container-id-1 div.sk-label label {font-family: monospace;font-weight: bold;display: inline-block;line-height: 1.2em;}#sk-container-id-1 div.sk-label-container {text-align: center;}#sk-container-id-1 div.sk-container {/* jupyter's `normalize.less` sets `[hidden] { display: none; }` but bootstrap.min.css set `[hidden] { display: none !important; }` so we also need the `!important` here to be able to override the default hidden behavior on the sphinx rendered scikit-learn.org. See: https://github.com/scikit-learn/scikit-learn/issues/21755 */display: inline-block !important;position: relative;}#sk-container-id-1 div.sk-text-repr-fallback {display: none;}</style><div id=\"sk-container-id-1\" class=\"sk-top-container\"><div class=\"sk-text-repr-fallback\"><pre>LinearRegression()</pre><b>In a Jupyter environment, please rerun this cell to show the HTML representation or trust the notebook. <br />On GitHub, the HTML representation is unable to render, please try loading this page with nbviewer.org.</b></div><div class=\"sk-container\" hidden><div class=\"sk-item\"><div class=\"sk-estimator sk-toggleable\"><input class=\"sk-toggleable__control sk-hidden--visually\" id=\"sk-estimator-id-1\" type=\"checkbox\" checked><label for=\"sk-estimator-id-1\" class=\"sk-toggleable__label sk-toggleable__label-arrow\">LinearRegression</label><div class=\"sk-toggleable__content\"><pre>LinearRegression()</pre></div></div></div></div></div>"
      ],
      "text/plain": [
       "LinearRegression()"
      ]
     },
     "execution_count": 51,
     "metadata": {},
     "output_type": "execute_result"
    }
   ],
   "source": [
    "regressor=LinearRegression()                                 #fitting\n",
    "regressor.fit(x_train,y_train)"
   ]
  },
  {
   "cell_type": "code",
   "execution_count": 52,
   "id": "193e172a",
   "metadata": {},
   "outputs": [
    {
     "data": {
      "text/plain": [
       "array([609.0502038 ,  -1.95122395,  18.03740104, ..., 109.24717425,\n",
       "       -42.41813312,  12.42984835])"
      ]
     },
     "execution_count": 52,
     "metadata": {},
     "output_type": "execute_result"
    }
   ],
   "source": [
    "xpred1=regressor.predict(x_train)\n",
    "xpred1"
   ]
  },
  {
   "cell_type": "code",
   "execution_count": 53,
   "id": "c82d0b23",
   "metadata": {},
   "outputs": [
    {
     "data": {
      "text/plain": [
       "array([ 2.25517987e+01,  8.86790539e+01,  3.53780926e+02,  2.23424823e+01,\n",
       "        2.40063030e+02,  8.58010179e+01,  8.96662466e+01,  1.20904439e+01,\n",
       "        4.50779490e+01,  5.34361094e+01, -4.98424468e+01, -1.49126960e+00,\n",
       "        1.88107393e+03, -1.59727256e+01,  1.46487105e+02,  7.92763136e+01,\n",
       "       -1.04713649e+01,  6.49386053e+01,  9.03633934e+01,  4.27595933e+01,\n",
       "       -4.25342832e+01,  2.71728487e+01, -3.50308057e+01, -3.52836597e+01,\n",
       "        1.08735488e+03,  1.82417848e+01, -4.43880386e+01,  1.52891062e+02,\n",
       "        1.05594360e+03,  5.71900803e+01, -5.31085873e+01,  4.60050456e+02,\n",
       "       -1.42162900e+01,  9.39334863e+01,  1.64695507e+02, -4.23763191e+01,\n",
       "        1.61830186e+02, -3.50212675e+01,  8.61582614e+02,  2.57197467e+02,\n",
       "        8.10425254e+01,  7.07834191e+01,  2.97100351e+01,  2.37177115e+02,\n",
       "        1.12454600e+02,  9.13344081e+01,  9.59067581e+01,  3.81960489e+00,\n",
       "        1.04693295e+02,  1.47189430e+02,  9.27289156e+01,  2.53482920e+02,\n",
       "        3.17293149e+01,  8.45001369e+01,  8.91600785e+01,  1.05257924e+02,\n",
       "        6.07077325e+00, -4.05643777e+01,  6.07341727e+00,  2.27995142e+01,\n",
       "        1.18621465e+02,  2.35418577e+01,  1.14180648e+02,  1.62850786e+01,\n",
       "        9.91679659e+01,  4.31242202e+02,  2.14937410e+01,  1.33361100e+03,\n",
       "        1.15691351e+03,  1.23361119e+02,  3.75412037e+02, -1.64600635e+01,\n",
       "        2.18961453e+03, -1.12032497e+01,  1.38786820e+02,  7.76545211e-01,\n",
       "        1.95067049e+01,  1.02417679e+03,  1.20771390e+03, -2.75058278e+00])"
      ]
     },
     "execution_count": 53,
     "metadata": {},
     "output_type": "execute_result"
    }
   ],
   "source": [
    "ypred1=regressor.predict(x_test)\n",
    "ypred1"
   ]
  },
  {
   "cell_type": "code",
   "execution_count": 54,
   "id": "21a49657",
   "metadata": {},
   "outputs": [
    {
     "data": {
      "text/plain": [
       "0.659601242188257"
      ]
     },
     "execution_count": 54,
     "metadata": {},
     "output_type": "execute_result"
    }
   ],
   "source": [
    "trainingscore1=regressor.score(x_train,y_train)\n",
    "trainingscore1"
   ]
  },
  {
   "cell_type": "code",
   "execution_count": 55,
   "id": "f3aee4cd",
   "metadata": {},
   "outputs": [
    {
     "data": {
      "text/plain": [
       "0.828742564588906"
      ]
     },
     "execution_count": 55,
     "metadata": {},
     "output_type": "execute_result"
    }
   ],
   "source": [
    "testingscore1=regressor.score(x_test,y_test)\n",
    "testingscore1"
   ]
  },
  {
   "cell_type": "code",
   "execution_count": 34,
   "id": "6bfab175",
   "metadata": {},
   "outputs": [],
   "source": [
    "from sklearn import metrics"
   ]
  },
  {
   "cell_type": "code",
   "execution_count": 35,
   "id": "23181d39",
   "metadata": {},
   "outputs": [
    {
     "name": "stdout",
     "output_type": "stream",
     "text": [
      "mae\n"
     ]
    },
    {
     "data": {
      "text/plain": [
       "(None, 122.0438062434644)"
      ]
     },
     "execution_count": 35,
     "metadata": {},
     "output_type": "execute_result"
    }
   ],
   "source": [
    "print(\"mae\"),metrics.mean_absolute_error(y_test,ypred1)"
   ]
  },
  {
   "cell_type": "code",
   "execution_count": 36,
   "id": "d2e4d198",
   "metadata": {},
   "outputs": [
    {
     "name": "stdout",
     "output_type": "stream",
     "text": [
      "mse\n"
     ]
    },
    {
     "data": {
      "text/plain": [
       "(None, 60355.74322630252)"
      ]
     },
     "execution_count": 36,
     "metadata": {},
     "output_type": "execute_result"
    }
   ],
   "source": [
    "print(\"mse\"),metrics.mean_squared_error(y_test,ypred1)"
   ]
  },
  {
   "cell_type": "code",
   "execution_count": 37,
   "id": "f92f6ec7",
   "metadata": {},
   "outputs": [
    {
     "name": "stdout",
     "output_type": "stream",
     "text": [
      "rmse\n"
     ]
    },
    {
     "data": {
      "text/plain": [
       "(None, 245.67405892015242)"
      ]
     },
     "execution_count": 37,
     "metadata": {},
     "output_type": "execute_result"
    }
   ],
   "source": [
    "print(\"rmse\"),np.sqrt(metrics.mean_squared_error(y_test,ypred1))"
   ]
  },
  {
   "cell_type": "code",
   "execution_count": 38,
   "id": "e3b34b21",
   "metadata": {},
   "outputs": [
    {
     "name": "stdout",
     "output_type": "stream",
     "text": [
      "rmae\n"
     ]
    },
    {
     "data": {
      "text/plain": [
       "(None, 11.047343854676761)"
      ]
     },
     "execution_count": 38,
     "metadata": {},
     "output_type": "execute_result"
    }
   ],
   "source": [
    "print(\"rmae\"),np.sqrt(metrics.mean_absolute_error(y_test,ypred1))"
   ]
  },
  {
   "cell_type": "code",
   "execution_count": 39,
   "id": "c025e345",
   "metadata": {},
   "outputs": [],
   "source": [
    "from sklearn.metrics import r2_score"
   ]
  },
  {
   "cell_type": "code",
   "execution_count": 40,
   "id": "06fa759a",
   "metadata": {},
   "outputs": [
    {
     "data": {
      "text/plain": [
       "0.828742564588906"
      ]
     },
     "execution_count": 40,
     "metadata": {},
     "output_type": "execute_result"
    }
   ],
   "source": [
    "r2=r2_score(y_test,ypred1)\n",
    "r2"
   ]
  },
  {
   "cell_type": "markdown",
   "id": "e111e999",
   "metadata": {},
   "source": [
    "## DecisionTree regression"
   ]
  },
  {
   "cell_type": "code",
   "execution_count": 44,
   "id": "44a609a7",
   "metadata": {},
   "outputs": [],
   "source": [
    "from sklearn.tree import DecisionTreeRegressor"
   ]
  },
  {
   "cell_type": "code",
   "execution_count": 45,
   "id": "e78632d6",
   "metadata": {},
   "outputs": [
    {
     "data": {
      "text/html": [
       "<style>#sk-container-id-2 {color: black;}#sk-container-id-2 pre{padding: 0;}#sk-container-id-2 div.sk-toggleable {background-color: white;}#sk-container-id-2 label.sk-toggleable__label {cursor: pointer;display: block;width: 100%;margin-bottom: 0;padding: 0.3em;box-sizing: border-box;text-align: center;}#sk-container-id-2 label.sk-toggleable__label-arrow:before {content: \"▸\";float: left;margin-right: 0.25em;color: #696969;}#sk-container-id-2 label.sk-toggleable__label-arrow:hover:before {color: black;}#sk-container-id-2 div.sk-estimator:hover label.sk-toggleable__label-arrow:before {color: black;}#sk-container-id-2 div.sk-toggleable__content {max-height: 0;max-width: 0;overflow: hidden;text-align: left;background-color: #f0f8ff;}#sk-container-id-2 div.sk-toggleable__content pre {margin: 0.2em;color: black;border-radius: 0.25em;background-color: #f0f8ff;}#sk-container-id-2 input.sk-toggleable__control:checked~div.sk-toggleable__content {max-height: 200px;max-width: 100%;overflow: auto;}#sk-container-id-2 input.sk-toggleable__control:checked~label.sk-toggleable__label-arrow:before {content: \"▾\";}#sk-container-id-2 div.sk-estimator input.sk-toggleable__control:checked~label.sk-toggleable__label {background-color: #d4ebff;}#sk-container-id-2 div.sk-label input.sk-toggleable__control:checked~label.sk-toggleable__label {background-color: #d4ebff;}#sk-container-id-2 input.sk-hidden--visually {border: 0;clip: rect(1px 1px 1px 1px);clip: rect(1px, 1px, 1px, 1px);height: 1px;margin: -1px;overflow: hidden;padding: 0;position: absolute;width: 1px;}#sk-container-id-2 div.sk-estimator {font-family: monospace;background-color: #f0f8ff;border: 1px dotted black;border-radius: 0.25em;box-sizing: border-box;margin-bottom: 0.5em;}#sk-container-id-2 div.sk-estimator:hover {background-color: #d4ebff;}#sk-container-id-2 div.sk-parallel-item::after {content: \"\";width: 100%;border-bottom: 1px solid gray;flex-grow: 1;}#sk-container-id-2 div.sk-label:hover label.sk-toggleable__label {background-color: #d4ebff;}#sk-container-id-2 div.sk-serial::before {content: \"\";position: absolute;border-left: 1px solid gray;box-sizing: border-box;top: 0;bottom: 0;left: 50%;z-index: 0;}#sk-container-id-2 div.sk-serial {display: flex;flex-direction: column;align-items: center;background-color: white;padding-right: 0.2em;padding-left: 0.2em;position: relative;}#sk-container-id-2 div.sk-item {position: relative;z-index: 1;}#sk-container-id-2 div.sk-parallel {display: flex;align-items: stretch;justify-content: center;background-color: white;position: relative;}#sk-container-id-2 div.sk-item::before, #sk-container-id-2 div.sk-parallel-item::before {content: \"\";position: absolute;border-left: 1px solid gray;box-sizing: border-box;top: 0;bottom: 0;left: 50%;z-index: -1;}#sk-container-id-2 div.sk-parallel-item {display: flex;flex-direction: column;z-index: 1;position: relative;background-color: white;}#sk-container-id-2 div.sk-parallel-item:first-child::after {align-self: flex-end;width: 50%;}#sk-container-id-2 div.sk-parallel-item:last-child::after {align-self: flex-start;width: 50%;}#sk-container-id-2 div.sk-parallel-item:only-child::after {width: 0;}#sk-container-id-2 div.sk-dashed-wrapped {border: 1px dashed gray;margin: 0 0.4em 0.5em 0.4em;box-sizing: border-box;padding-bottom: 0.4em;background-color: white;}#sk-container-id-2 div.sk-label label {font-family: monospace;font-weight: bold;display: inline-block;line-height: 1.2em;}#sk-container-id-2 div.sk-label-container {text-align: center;}#sk-container-id-2 div.sk-container {/* jupyter's `normalize.less` sets `[hidden] { display: none; }` but bootstrap.min.css set `[hidden] { display: none !important; }` so we also need the `!important` here to be able to override the default hidden behavior on the sphinx rendered scikit-learn.org. See: https://github.com/scikit-learn/scikit-learn/issues/21755 */display: inline-block !important;position: relative;}#sk-container-id-2 div.sk-text-repr-fallback {display: none;}</style><div id=\"sk-container-id-2\" class=\"sk-top-container\"><div class=\"sk-text-repr-fallback\"><pre>DecisionTreeRegressor()</pre><b>In a Jupyter environment, please rerun this cell to show the HTML representation or trust the notebook. <br />On GitHub, the HTML representation is unable to render, please try loading this page with nbviewer.org.</b></div><div class=\"sk-container\" hidden><div class=\"sk-item\"><div class=\"sk-estimator sk-toggleable\"><input class=\"sk-toggleable__control sk-hidden--visually\" id=\"sk-estimator-id-2\" type=\"checkbox\" checked><label for=\"sk-estimator-id-2\" class=\"sk-toggleable__label sk-toggleable__label-arrow\">DecisionTreeRegressor</label><div class=\"sk-toggleable__content\"><pre>DecisionTreeRegressor()</pre></div></div></div></div></div>"
      ],
      "text/plain": [
       "DecisionTreeRegressor()"
      ]
     },
     "execution_count": 45,
     "metadata": {},
     "output_type": "execute_result"
    }
   ],
   "source": [
    "dtr=DecisionTreeRegressor()\n",
    "dtr"
   ]
  },
  {
   "cell_type": "code",
   "execution_count": 46,
   "id": "fb4b7510",
   "metadata": {},
   "outputs": [
    {
     "data": {
      "text/html": [
       "<style>#sk-container-id-3 {color: black;}#sk-container-id-3 pre{padding: 0;}#sk-container-id-3 div.sk-toggleable {background-color: white;}#sk-container-id-3 label.sk-toggleable__label {cursor: pointer;display: block;width: 100%;margin-bottom: 0;padding: 0.3em;box-sizing: border-box;text-align: center;}#sk-container-id-3 label.sk-toggleable__label-arrow:before {content: \"▸\";float: left;margin-right: 0.25em;color: #696969;}#sk-container-id-3 label.sk-toggleable__label-arrow:hover:before {color: black;}#sk-container-id-3 div.sk-estimator:hover label.sk-toggleable__label-arrow:before {color: black;}#sk-container-id-3 div.sk-toggleable__content {max-height: 0;max-width: 0;overflow: hidden;text-align: left;background-color: #f0f8ff;}#sk-container-id-3 div.sk-toggleable__content pre {margin: 0.2em;color: black;border-radius: 0.25em;background-color: #f0f8ff;}#sk-container-id-3 input.sk-toggleable__control:checked~div.sk-toggleable__content {max-height: 200px;max-width: 100%;overflow: auto;}#sk-container-id-3 input.sk-toggleable__control:checked~label.sk-toggleable__label-arrow:before {content: \"▾\";}#sk-container-id-3 div.sk-estimator input.sk-toggleable__control:checked~label.sk-toggleable__label {background-color: #d4ebff;}#sk-container-id-3 div.sk-label input.sk-toggleable__control:checked~label.sk-toggleable__label {background-color: #d4ebff;}#sk-container-id-3 input.sk-hidden--visually {border: 0;clip: rect(1px 1px 1px 1px);clip: rect(1px, 1px, 1px, 1px);height: 1px;margin: -1px;overflow: hidden;padding: 0;position: absolute;width: 1px;}#sk-container-id-3 div.sk-estimator {font-family: monospace;background-color: #f0f8ff;border: 1px dotted black;border-radius: 0.25em;box-sizing: border-box;margin-bottom: 0.5em;}#sk-container-id-3 div.sk-estimator:hover {background-color: #d4ebff;}#sk-container-id-3 div.sk-parallel-item::after {content: \"\";width: 100%;border-bottom: 1px solid gray;flex-grow: 1;}#sk-container-id-3 div.sk-label:hover label.sk-toggleable__label {background-color: #d4ebff;}#sk-container-id-3 div.sk-serial::before {content: \"\";position: absolute;border-left: 1px solid gray;box-sizing: border-box;top: 0;bottom: 0;left: 50%;z-index: 0;}#sk-container-id-3 div.sk-serial {display: flex;flex-direction: column;align-items: center;background-color: white;padding-right: 0.2em;padding-left: 0.2em;position: relative;}#sk-container-id-3 div.sk-item {position: relative;z-index: 1;}#sk-container-id-3 div.sk-parallel {display: flex;align-items: stretch;justify-content: center;background-color: white;position: relative;}#sk-container-id-3 div.sk-item::before, #sk-container-id-3 div.sk-parallel-item::before {content: \"\";position: absolute;border-left: 1px solid gray;box-sizing: border-box;top: 0;bottom: 0;left: 50%;z-index: -1;}#sk-container-id-3 div.sk-parallel-item {display: flex;flex-direction: column;z-index: 1;position: relative;background-color: white;}#sk-container-id-3 div.sk-parallel-item:first-child::after {align-self: flex-end;width: 50%;}#sk-container-id-3 div.sk-parallel-item:last-child::after {align-self: flex-start;width: 50%;}#sk-container-id-3 div.sk-parallel-item:only-child::after {width: 0;}#sk-container-id-3 div.sk-dashed-wrapped {border: 1px dashed gray;margin: 0 0.4em 0.5em 0.4em;box-sizing: border-box;padding-bottom: 0.4em;background-color: white;}#sk-container-id-3 div.sk-label label {font-family: monospace;font-weight: bold;display: inline-block;line-height: 1.2em;}#sk-container-id-3 div.sk-label-container {text-align: center;}#sk-container-id-3 div.sk-container {/* jupyter's `normalize.less` sets `[hidden] { display: none; }` but bootstrap.min.css set `[hidden] { display: none !important; }` so we also need the `!important` here to be able to override the default hidden behavior on the sphinx rendered scikit-learn.org. See: https://github.com/scikit-learn/scikit-learn/issues/21755 */display: inline-block !important;position: relative;}#sk-container-id-3 div.sk-text-repr-fallback {display: none;}</style><div id=\"sk-container-id-3\" class=\"sk-top-container\"><div class=\"sk-text-repr-fallback\"><pre>DecisionTreeRegressor()</pre><b>In a Jupyter environment, please rerun this cell to show the HTML representation or trust the notebook. <br />On GitHub, the HTML representation is unable to render, please try loading this page with nbviewer.org.</b></div><div class=\"sk-container\" hidden><div class=\"sk-item\"><div class=\"sk-estimator sk-toggleable\"><input class=\"sk-toggleable__control sk-hidden--visually\" id=\"sk-estimator-id-3\" type=\"checkbox\" checked><label for=\"sk-estimator-id-3\" class=\"sk-toggleable__label sk-toggleable__label-arrow\">DecisionTreeRegressor</label><div class=\"sk-toggleable__content\"><pre>DecisionTreeRegressor()</pre></div></div></div></div></div>"
      ],
      "text/plain": [
       "DecisionTreeRegressor()"
      ]
     },
     "execution_count": 46,
     "metadata": {},
     "output_type": "execute_result"
    }
   ],
   "source": [
    "dtr.fit(x_train,y_train)                                   #fitting"
   ]
  },
  {
   "cell_type": "code",
   "execution_count": 47,
   "id": "9540b5f2",
   "metadata": {},
   "outputs": [
    {
     "data": {
      "text/plain": [
       "array([712.,   1., 159., ..., 240.,   0.,   5.])"
      ]
     },
     "execution_count": 47,
     "metadata": {},
     "output_type": "execute_result"
    }
   ],
   "source": [
    "xpred2=dtr.predict(x_train)\n",
    "xpred2"
   ]
  },
  {
   "cell_type": "code",
   "execution_count": 48,
   "id": "3c71a22d",
   "metadata": {},
   "outputs": [
    {
     "data": {
      "text/plain": [
       "array([7.000e+00, 2.900e+01, 3.400e+02, 8.000e+00, 1.250e+02, 0.000e+00,\n",
       "       1.000e+00, 5.000e+00, 0.000e+00, 0.000e+00, 0.000e+00, 1.000e+00,\n",
       "       2.217e+03, 5.000e+00, 9.300e+01, 2.600e+01, 0.000e+00, 5.900e+01,\n",
       "       0.000e+00, 0.000e+00, 0.000e+00, 1.700e+01, 1.000e+00, 1.000e+00,\n",
       "       1.664e+03, 0.000e+00, 0.000e+00, 8.500e+01, 1.412e+03, 0.000e+00,\n",
       "       0.000e+00, 5.640e+02, 3.000e+00, 1.370e+02, 6.800e+01, 0.000e+00,\n",
       "       7.900e+01, 1.000e+00, 2.072e+03, 1.190e+02, 5.000e+00, 2.300e+01,\n",
       "       1.320e+02, 2.870e+02, 8.500e+01, 0.000e+00, 3.500e+01, 1.000e+00,\n",
       "       5.300e+01, 6.300e+01, 2.500e+01, 6.410e+02, 2.300e+01, 0.000e+00,\n",
       "       0.000e+00, 6.300e+01, 9.500e+01, 0.000e+00, 4.800e+01, 0.000e+00,\n",
       "       5.000e+01, 1.500e+01, 7.100e+01, 3.000e+00, 4.100e+01, 1.900e+01,\n",
       "       1.000e+00, 1.491e+03, 1.935e+03, 8.800e+01, 9.800e+02, 1.000e+00,\n",
       "       2.666e+03, 2.500e+01, 4.400e+01, 7.700e+01, 9.700e+01, 8.640e+02,\n",
       "       1.633e+03, 1.000e+00])"
      ]
     },
     "execution_count": 48,
     "metadata": {},
     "output_type": "execute_result"
    }
   ],
   "source": [
    "ypred2=dtr.predict(x_test)\n",
    "ypred2"
   ]
  },
  {
   "cell_type": "code",
   "execution_count": 49,
   "id": "f0ac2c32",
   "metadata": {},
   "outputs": [
    {
     "data": {
      "text/plain": [
       "1.0"
      ]
     },
     "execution_count": 49,
     "metadata": {},
     "output_type": "execute_result"
    }
   ],
   "source": [
    "trainingscore2=dtr.score(x_train,y_train)\n",
    "trainingscore2"
   ]
  },
  {
   "cell_type": "code",
   "execution_count": 50,
   "id": "5481cce3",
   "metadata": {},
   "outputs": [
    {
     "data": {
      "text/plain": [
       "0.9920860205247721"
      ]
     },
     "execution_count": 50,
     "metadata": {},
     "output_type": "execute_result"
    }
   ],
   "source": [
    "testingscore2=dtr.score(x_test,y_test)\n",
    "testingscore2"
   ]
  },
  {
   "cell_type": "markdown",
   "id": "edd0366f",
   "metadata": {},
   "source": [
    "## RandomForest Regression"
   ]
  },
  {
   "cell_type": "code",
   "execution_count": 51,
   "id": "240fab42",
   "metadata": {},
   "outputs": [],
   "source": [
    "from sklearn.ensemble import RandomForestRegressor"
   ]
  },
  {
   "cell_type": "code",
   "execution_count": 52,
   "id": "27c4fca9",
   "metadata": {},
   "outputs": [
    {
     "data": {
      "text/html": [
       "<style>#sk-container-id-4 {color: black;}#sk-container-id-4 pre{padding: 0;}#sk-container-id-4 div.sk-toggleable {background-color: white;}#sk-container-id-4 label.sk-toggleable__label {cursor: pointer;display: block;width: 100%;margin-bottom: 0;padding: 0.3em;box-sizing: border-box;text-align: center;}#sk-container-id-4 label.sk-toggleable__label-arrow:before {content: \"▸\";float: left;margin-right: 0.25em;color: #696969;}#sk-container-id-4 label.sk-toggleable__label-arrow:hover:before {color: black;}#sk-container-id-4 div.sk-estimator:hover label.sk-toggleable__label-arrow:before {color: black;}#sk-container-id-4 div.sk-toggleable__content {max-height: 0;max-width: 0;overflow: hidden;text-align: left;background-color: #f0f8ff;}#sk-container-id-4 div.sk-toggleable__content pre {margin: 0.2em;color: black;border-radius: 0.25em;background-color: #f0f8ff;}#sk-container-id-4 input.sk-toggleable__control:checked~div.sk-toggleable__content {max-height: 200px;max-width: 100%;overflow: auto;}#sk-container-id-4 input.sk-toggleable__control:checked~label.sk-toggleable__label-arrow:before {content: \"▾\";}#sk-container-id-4 div.sk-estimator input.sk-toggleable__control:checked~label.sk-toggleable__label {background-color: #d4ebff;}#sk-container-id-4 div.sk-label input.sk-toggleable__control:checked~label.sk-toggleable__label {background-color: #d4ebff;}#sk-container-id-4 input.sk-hidden--visually {border: 0;clip: rect(1px 1px 1px 1px);clip: rect(1px, 1px, 1px, 1px);height: 1px;margin: -1px;overflow: hidden;padding: 0;position: absolute;width: 1px;}#sk-container-id-4 div.sk-estimator {font-family: monospace;background-color: #f0f8ff;border: 1px dotted black;border-radius: 0.25em;box-sizing: border-box;margin-bottom: 0.5em;}#sk-container-id-4 div.sk-estimator:hover {background-color: #d4ebff;}#sk-container-id-4 div.sk-parallel-item::after {content: \"\";width: 100%;border-bottom: 1px solid gray;flex-grow: 1;}#sk-container-id-4 div.sk-label:hover label.sk-toggleable__label {background-color: #d4ebff;}#sk-container-id-4 div.sk-serial::before {content: \"\";position: absolute;border-left: 1px solid gray;box-sizing: border-box;top: 0;bottom: 0;left: 50%;z-index: 0;}#sk-container-id-4 div.sk-serial {display: flex;flex-direction: column;align-items: center;background-color: white;padding-right: 0.2em;padding-left: 0.2em;position: relative;}#sk-container-id-4 div.sk-item {position: relative;z-index: 1;}#sk-container-id-4 div.sk-parallel {display: flex;align-items: stretch;justify-content: center;background-color: white;position: relative;}#sk-container-id-4 div.sk-item::before, #sk-container-id-4 div.sk-parallel-item::before {content: \"\";position: absolute;border-left: 1px solid gray;box-sizing: border-box;top: 0;bottom: 0;left: 50%;z-index: -1;}#sk-container-id-4 div.sk-parallel-item {display: flex;flex-direction: column;z-index: 1;position: relative;background-color: white;}#sk-container-id-4 div.sk-parallel-item:first-child::after {align-self: flex-end;width: 50%;}#sk-container-id-4 div.sk-parallel-item:last-child::after {align-self: flex-start;width: 50%;}#sk-container-id-4 div.sk-parallel-item:only-child::after {width: 0;}#sk-container-id-4 div.sk-dashed-wrapped {border: 1px dashed gray;margin: 0 0.4em 0.5em 0.4em;box-sizing: border-box;padding-bottom: 0.4em;background-color: white;}#sk-container-id-4 div.sk-label label {font-family: monospace;font-weight: bold;display: inline-block;line-height: 1.2em;}#sk-container-id-4 div.sk-label-container {text-align: center;}#sk-container-id-4 div.sk-container {/* jupyter's `normalize.less` sets `[hidden] { display: none; }` but bootstrap.min.css set `[hidden] { display: none !important; }` so we also need the `!important` here to be able to override the default hidden behavior on the sphinx rendered scikit-learn.org. See: https://github.com/scikit-learn/scikit-learn/issues/21755 */display: inline-block !important;position: relative;}#sk-container-id-4 div.sk-text-repr-fallback {display: none;}</style><div id=\"sk-container-id-4\" class=\"sk-top-container\"><div class=\"sk-text-repr-fallback\"><pre>RandomForestRegressor()</pre><b>In a Jupyter environment, please rerun this cell to show the HTML representation or trust the notebook. <br />On GitHub, the HTML representation is unable to render, please try loading this page with nbviewer.org.</b></div><div class=\"sk-container\" hidden><div class=\"sk-item\"><div class=\"sk-estimator sk-toggleable\"><input class=\"sk-toggleable__control sk-hidden--visually\" id=\"sk-estimator-id-4\" type=\"checkbox\" checked><label for=\"sk-estimator-id-4\" class=\"sk-toggleable__label sk-toggleable__label-arrow\">RandomForestRegressor</label><div class=\"sk-toggleable__content\"><pre>RandomForestRegressor()</pre></div></div></div></div></div>"
      ],
      "text/plain": [
       "RandomForestRegressor()"
      ]
     },
     "execution_count": 52,
     "metadata": {},
     "output_type": "execute_result"
    }
   ],
   "source": [
    "RFR=RandomForestRegressor()\n",
    "RFR"
   ]
  },
  {
   "cell_type": "code",
   "execution_count": 53,
   "id": "9303806e",
   "metadata": {},
   "outputs": [
    {
     "data": {
      "text/html": [
       "<style>#sk-container-id-5 {color: black;}#sk-container-id-5 pre{padding: 0;}#sk-container-id-5 div.sk-toggleable {background-color: white;}#sk-container-id-5 label.sk-toggleable__label {cursor: pointer;display: block;width: 100%;margin-bottom: 0;padding: 0.3em;box-sizing: border-box;text-align: center;}#sk-container-id-5 label.sk-toggleable__label-arrow:before {content: \"▸\";float: left;margin-right: 0.25em;color: #696969;}#sk-container-id-5 label.sk-toggleable__label-arrow:hover:before {color: black;}#sk-container-id-5 div.sk-estimator:hover label.sk-toggleable__label-arrow:before {color: black;}#sk-container-id-5 div.sk-toggleable__content {max-height: 0;max-width: 0;overflow: hidden;text-align: left;background-color: #f0f8ff;}#sk-container-id-5 div.sk-toggleable__content pre {margin: 0.2em;color: black;border-radius: 0.25em;background-color: #f0f8ff;}#sk-container-id-5 input.sk-toggleable__control:checked~div.sk-toggleable__content {max-height: 200px;max-width: 100%;overflow: auto;}#sk-container-id-5 input.sk-toggleable__control:checked~label.sk-toggleable__label-arrow:before {content: \"▾\";}#sk-container-id-5 div.sk-estimator input.sk-toggleable__control:checked~label.sk-toggleable__label {background-color: #d4ebff;}#sk-container-id-5 div.sk-label input.sk-toggleable__control:checked~label.sk-toggleable__label {background-color: #d4ebff;}#sk-container-id-5 input.sk-hidden--visually {border: 0;clip: rect(1px 1px 1px 1px);clip: rect(1px, 1px, 1px, 1px);height: 1px;margin: -1px;overflow: hidden;padding: 0;position: absolute;width: 1px;}#sk-container-id-5 div.sk-estimator {font-family: monospace;background-color: #f0f8ff;border: 1px dotted black;border-radius: 0.25em;box-sizing: border-box;margin-bottom: 0.5em;}#sk-container-id-5 div.sk-estimator:hover {background-color: #d4ebff;}#sk-container-id-5 div.sk-parallel-item::after {content: \"\";width: 100%;border-bottom: 1px solid gray;flex-grow: 1;}#sk-container-id-5 div.sk-label:hover label.sk-toggleable__label {background-color: #d4ebff;}#sk-container-id-5 div.sk-serial::before {content: \"\";position: absolute;border-left: 1px solid gray;box-sizing: border-box;top: 0;bottom: 0;left: 50%;z-index: 0;}#sk-container-id-5 div.sk-serial {display: flex;flex-direction: column;align-items: center;background-color: white;padding-right: 0.2em;padding-left: 0.2em;position: relative;}#sk-container-id-5 div.sk-item {position: relative;z-index: 1;}#sk-container-id-5 div.sk-parallel {display: flex;align-items: stretch;justify-content: center;background-color: white;position: relative;}#sk-container-id-5 div.sk-item::before, #sk-container-id-5 div.sk-parallel-item::before {content: \"\";position: absolute;border-left: 1px solid gray;box-sizing: border-box;top: 0;bottom: 0;left: 50%;z-index: -1;}#sk-container-id-5 div.sk-parallel-item {display: flex;flex-direction: column;z-index: 1;position: relative;background-color: white;}#sk-container-id-5 div.sk-parallel-item:first-child::after {align-self: flex-end;width: 50%;}#sk-container-id-5 div.sk-parallel-item:last-child::after {align-self: flex-start;width: 50%;}#sk-container-id-5 div.sk-parallel-item:only-child::after {width: 0;}#sk-container-id-5 div.sk-dashed-wrapped {border: 1px dashed gray;margin: 0 0.4em 0.5em 0.4em;box-sizing: border-box;padding-bottom: 0.4em;background-color: white;}#sk-container-id-5 div.sk-label label {font-family: monospace;font-weight: bold;display: inline-block;line-height: 1.2em;}#sk-container-id-5 div.sk-label-container {text-align: center;}#sk-container-id-5 div.sk-container {/* jupyter's `normalize.less` sets `[hidden] { display: none; }` but bootstrap.min.css set `[hidden] { display: none !important; }` so we also need the `!important` here to be able to override the default hidden behavior on the sphinx rendered scikit-learn.org. See: https://github.com/scikit-learn/scikit-learn/issues/21755 */display: inline-block !important;position: relative;}#sk-container-id-5 div.sk-text-repr-fallback {display: none;}</style><div id=\"sk-container-id-5\" class=\"sk-top-container\"><div class=\"sk-text-repr-fallback\"><pre>RandomForestRegressor()</pre><b>In a Jupyter environment, please rerun this cell to show the HTML representation or trust the notebook. <br />On GitHub, the HTML representation is unable to render, please try loading this page with nbviewer.org.</b></div><div class=\"sk-container\" hidden><div class=\"sk-item\"><div class=\"sk-estimator sk-toggleable\"><input class=\"sk-toggleable__control sk-hidden--visually\" id=\"sk-estimator-id-5\" type=\"checkbox\" checked><label for=\"sk-estimator-id-5\" class=\"sk-toggleable__label sk-toggleable__label-arrow\">RandomForestRegressor</label><div class=\"sk-toggleable__content\"><pre>RandomForestRegressor()</pre></div></div></div></div></div>"
      ],
      "text/plain": [
       "RandomForestRegressor()"
      ]
     },
     "execution_count": 53,
     "metadata": {},
     "output_type": "execute_result"
    }
   ],
   "source": [
    "RFR.fit(x_train,y_train)                                         #fitting"
   ]
  },
  {
   "cell_type": "code",
   "execution_count": 54,
   "id": "e109989a",
   "metadata": {},
   "outputs": [
    {
     "data": {
      "text/plain": [
       "array([714.95,   1.  , 157.35, ..., 240.19,   0.  ,   4.98])"
      ]
     },
     "execution_count": 54,
     "metadata": {},
     "output_type": "execute_result"
    }
   ],
   "source": [
    "xpred3=RFR.predict(x_train)\n",
    "xpred3"
   ]
  },
  {
   "cell_type": "code",
   "execution_count": 55,
   "id": "81242607",
   "metadata": {},
   "outputs": [
    {
     "data": {
      "text/plain": [
       "array([7.02000e+00, 3.16900e+01, 3.42780e+02, 8.29000e+00, 1.25460e+02,\n",
       "       0.00000e+00, 1.00000e+00, 4.77000e+00, 0.00000e+00, 0.00000e+00,\n",
       "       0.00000e+00, 1.00000e+00, 2.17238e+03, 4.96000e+00, 9.02300e+01,\n",
       "       2.59500e+01, 1.00000e-02, 6.12200e+01, 0.00000e+00, 0.00000e+00,\n",
       "       0.00000e+00, 1.63400e+01, 1.00000e+00, 1.00000e+00, 1.62509e+03,\n",
       "       0.00000e+00, 0.00000e+00, 8.14200e+01, 1.64772e+03, 0.00000e+00,\n",
       "       0.00000e+00, 5.43750e+02, 3.32000e+00, 1.38440e+02, 7.17900e+01,\n",
       "       0.00000e+00, 7.82800e+01, 1.00000e+00, 2.05671e+03, 1.14900e+02,\n",
       "       5.00000e+00, 2.32500e+01, 1.24560e+02, 2.84680e+02, 8.29100e+01,\n",
       "       0.00000e+00, 3.47800e+01, 1.02000e+00, 5.28800e+01, 6.32900e+01,\n",
       "       2.43900e+01, 6.34540e+02, 2.32300e+01, 0.00000e+00, 0.00000e+00,\n",
       "       6.15200e+01, 9.55500e+01, 0.00000e+00, 4.78600e+01, 0.00000e+00,\n",
       "       4.81200e+01, 1.48800e+01, 7.09700e+01, 3.00000e+00, 4.12700e+01,\n",
       "       1.90100e+01, 1.30000e+00, 1.45408e+03, 1.98907e+03, 8.49100e+01,\n",
       "       9.32420e+02, 7.30000e-01, 2.69142e+03, 2.47500e+01, 4.13300e+01,\n",
       "       7.99700e+01, 9.70000e+01, 7.84210e+02, 1.68644e+03, 1.00000e+00])"
      ]
     },
     "execution_count": 55,
     "metadata": {},
     "output_type": "execute_result"
    }
   ],
   "source": [
    "ypred3=RFR.predict(x_test)\n",
    "ypred3"
   ]
  },
  {
   "cell_type": "code",
   "execution_count": 56,
   "id": "080e1d77",
   "metadata": {},
   "outputs": [
    {
     "data": {
      "text/plain": [
       "0.9993865931643109"
      ]
     },
     "execution_count": 56,
     "metadata": {},
     "output_type": "execute_result"
    }
   ],
   "source": [
    "trainingscore3=RFR.score(x_train,y_train)\n",
    "trainingscore3"
   ]
  },
  {
   "cell_type": "code",
   "execution_count": 57,
   "id": "855572bb",
   "metadata": {},
   "outputs": [
    {
     "data": {
      "text/plain": [
       "0.9975585323734184"
      ]
     },
     "execution_count": 57,
     "metadata": {},
     "output_type": "execute_result"
    }
   ],
   "source": [
    "testingscore3=RFR.score(x_test,y_test)\n",
    "testingscore3"
   ]
  },
  {
   "cell_type": "code",
   "execution_count": 58,
   "id": "cc729041",
   "metadata": {},
   "outputs": [],
   "source": [
    "from sklearn import metrics"
   ]
  },
  {
   "cell_type": "code",
   "execution_count": 59,
   "id": "7bd751bc",
   "metadata": {},
   "outputs": [
    {
     "name": "stdout",
     "output_type": "stream",
     "text": [
      "mse\n"
     ]
    },
    {
     "data": {
      "text/plain": [
       "(None, 860.4390974999999)"
      ]
     },
     "execution_count": 59,
     "metadata": {},
     "output_type": "execute_result"
    }
   ],
   "source": [
    "print(\"mse\"),metrics.mean_squared_error(y_test,ypred3) #mean squared error"
   ]
  },
  {
   "cell_type": "code",
   "execution_count": 60,
   "id": "f0fd9497",
   "metadata": {},
   "outputs": [
    {
     "name": "stdout",
     "output_type": "stream",
     "text": [
      "mae\n"
     ]
    },
    {
     "data": {
      "text/plain": [
       "(None, 10.140999999999996)"
      ]
     },
     "execution_count": 60,
     "metadata": {},
     "output_type": "execute_result"
    }
   ],
   "source": [
    "print(\"mae\"),metrics.mean_absolute_error(y_test,ypred3) #mean absolute error"
   ]
  },
  {
   "cell_type": "code",
   "execution_count": 61,
   "id": "33582d77",
   "metadata": {},
   "outputs": [
    {
     "name": "stdout",
     "output_type": "stream",
     "text": [
      "rmse\n"
     ]
    },
    {
     "data": {
      "text/plain": [
       "(None, 29.333242192093255)"
      ]
     },
     "execution_count": 61,
     "metadata": {},
     "output_type": "execute_result"
    }
   ],
   "source": [
    "print(\"rmse\"),np.sqrt(metrics.mean_squared_error(y_test,ypred3)) #mean squared error"
   ]
  },
  {
   "cell_type": "code",
   "execution_count": 62,
   "id": "50c94c9b",
   "metadata": {},
   "outputs": [
    {
     "name": "stdout",
     "output_type": "stream",
     "text": [
      "rmae\n"
     ]
    },
    {
     "data": {
      "text/plain": [
       "(None, 3.1844936803203105)"
      ]
     },
     "execution_count": 62,
     "metadata": {},
     "output_type": "execute_result"
    }
   ],
   "source": [
    "print(\"rmae\"),np.sqrt(metrics.mean_absolute_error(y_test,ypred3)) #mean absolute error"
   ]
  },
  {
   "cell_type": "code",
   "execution_count": 63,
   "id": "f988b722",
   "metadata": {},
   "outputs": [],
   "source": [
    "from sklearn.metrics import r2_score"
   ]
  },
  {
   "cell_type": "code",
   "execution_count": 64,
   "id": "193d8b12",
   "metadata": {},
   "outputs": [
    {
     "data": {
      "text/plain": [
       "0.9975585323734184"
      ]
     },
     "execution_count": 64,
     "metadata": {},
     "output_type": "execute_result"
    }
   ],
   "source": [
    "r4=r2_score(y_test,ypred3)\n",
    "r4"
   ]
  },
  {
   "cell_type": "code",
   "execution_count": 81,
   "id": "53ee5cf1",
   "metadata": {},
   "outputs": [
    {
     "data": {
      "text/html": [
       "<div>\n",
       "<style scoped>\n",
       "    .dataframe tbody tr th:only-of-type {\n",
       "        vertical-align: middle;\n",
       "    }\n",
       "\n",
       "    .dataframe tbody tr th {\n",
       "        vertical-align: top;\n",
       "    }\n",
       "\n",
       "    .dataframe thead th {\n",
       "        text-align: right;\n",
       "    }\n",
       "</style>\n",
       "<table border=\"1\" class=\"dataframe\">\n",
       "  <thead>\n",
       "    <tr style=\"text-align: right;\">\n",
       "      <th></th>\n",
       "      <th>ML Models</th>\n",
       "      <th>Accuracy Score</th>\n",
       "    </tr>\n",
       "  </thead>\n",
       "  <tbody>\n",
       "    <tr>\n",
       "      <th>0</th>\n",
       "      <td>Linear</td>\n",
       "      <td>0.828743</td>\n",
       "    </tr>\n",
       "    <tr>\n",
       "      <th>1</th>\n",
       "      <td>Decision Tree</td>\n",
       "      <td>0.989795</td>\n",
       "    </tr>\n",
       "    <tr>\n",
       "      <th>2</th>\n",
       "      <td>Random Forest</td>\n",
       "      <td>0.997585</td>\n",
       "    </tr>\n",
       "  </tbody>\n",
       "</table>\n",
       "</div>"
      ],
      "text/plain": [
       "       ML Models  Accuracy Score\n",
       "0         Linear        0.828743\n",
       "1  Decision Tree        0.989795\n",
       "2  Random Forest        0.997585"
      ]
     },
     "execution_count": 81,
     "metadata": {},
     "output_type": "execute_result"
    }
   ],
   "source": [
    "z=pd.DataFrame({\"ML Models\":[\"Linear\",\"Decision Tree\",\"Random Forest\"],\n",
    "               \"Accuracy Score\":[testingscore1,testingscore2,testingscore3]})\n",
    "z"
   ]
  },
  {
   "cell_type": "code",
   "execution_count": 82,
   "id": "6e8f6340",
   "metadata": {},
   "outputs": [
    {
     "data": {
      "text/html": [
       "<div>\n",
       "<style scoped>\n",
       "    .dataframe tbody tr th:only-of-type {\n",
       "        vertical-align: middle;\n",
       "    }\n",
       "\n",
       "    .dataframe tbody tr th {\n",
       "        vertical-align: top;\n",
       "    }\n",
       "\n",
       "    .dataframe thead th {\n",
       "        text-align: right;\n",
       "    }\n",
       "</style>\n",
       "<table border=\"1\" class=\"dataframe\">\n",
       "  <thead>\n",
       "    <tr style=\"text-align: right;\">\n",
       "      <th></th>\n",
       "      <th>ML Models</th>\n",
       "      <th>Accuracy Score</th>\n",
       "    </tr>\n",
       "  </thead>\n",
       "  <tbody>\n",
       "    <tr>\n",
       "      <th>2</th>\n",
       "      <td>Random Forest</td>\n",
       "      <td>0.997585</td>\n",
       "    </tr>\n",
       "    <tr>\n",
       "      <th>1</th>\n",
       "      <td>Decision Tree</td>\n",
       "      <td>0.989795</td>\n",
       "    </tr>\n",
       "    <tr>\n",
       "      <th>0</th>\n",
       "      <td>Linear</td>\n",
       "      <td>0.828743</td>\n",
       "    </tr>\n",
       "  </tbody>\n",
       "</table>\n",
       "</div>"
      ],
      "text/plain": [
       "       ML Models  Accuracy Score\n",
       "2  Random Forest        0.997585\n",
       "1  Decision Tree        0.989795\n",
       "0         Linear        0.828743"
      ]
     },
     "execution_count": 82,
     "metadata": {},
     "output_type": "execute_result"
    },
    {
     "data": {
      "image/png": "[encoded data removed]",
      "text/plain": [
       "<Figure size 640x480 with 1 Axes>"
      ]
     },
     "metadata": {},
     "output_type": "display_data"
    }
   ],
   "source": [
    "sns.barplot(x=\"ML Models\",y=\"Accuracy Score\",data=z)       \n",
    "z.sort_values(by=\"Accuracy Score\",ascending=False)"
   ]
  },
  {
   "cell_type": "markdown",
   "id": "cefa6717",
   "metadata": {},
   "source": [
    "# Conclusion\n",
    "\n",
    "## Test Data's Accuracy Of All Models\n",
    "\n",
    " Test data accuracy in Linear regression -0.8287 Test data accuracy in Decision Tree -0.9897 Test data accuracy in Random Forest -0.997\n",
    "\n",
    " HENCE BEST MODEL TO PREDICT CONTAGIOUS DISEASE RANGE FROM THE GIVEN DATASET IS RANDOM FOREST MODEL"
   ]
  },
  {
   "cell_type": "markdown",
   "id": "7cab6c7a",
   "metadata": {},
   "source": [
    "# Input Method"
   ]
  },
  {
   "cell_type": "code",
   "execution_count": 65,
   "id": "e4fcdad9",
   "metadata": {},
   "outputs": [
    {
     "name": "stdout",
     "output_type": "stream",
     "text": [
      "Enter week :195401\n",
      "Enter state_name:0\n",
      "Enter disease :0\n",
      "Enter incidence_per_capita:6\n",
      "cases 286\n"
     ]
    }
   ],
   "source": [
    "week=int(input(\"Enter week :\"))\n",
    "state_name=int(input(\"Enter state_name:\"))\n",
    "disease=int(input(\"Enter disease :\"))\n",
    "incidence_per_capita=int(input(\"Enter incidence_per_capita:\"))\n",
    "New=[week,state_name,disease,incidence_per_capita] \n",
    "import numpy as np                                             # creating a variable including all the above input variables\n",
    "numpy=np.asarray(New)                                           # converting into numpy array\n",
    "Newarray=numpy.reshape(1,-1)\n",
    "pred=regressor.predict(Newarray)\n",
    "d=int(pred)\n",
    "print(\"cases\",d)\n",
    "\n"
   ]
  },
  {
   "cell_type": "code",
   "execution_count": null,
   "id": "fa0212c8",
   "metadata": {},
   "outputs": [],
   "source": []
  }
 ],
 "metadata": {
  "kernelspec": {
   "display_name": "Python 3 (ipykernel)",
   "language": "python",
   "name": "python3"
  },
  "language_info": {
   "codemirror_mode": {
    "name": "ipython",
    "version": 3
   },
   "file_extension": ".py",
   "mimetype": "text/x-python",
   "name": "python",
   "nbconvert_exporter": "python",
   "pygments_lexer": "ipython3",
   "version": "3.11.4"
  }
 },
 "nbformat": 4,
 "nbformat_minor": 5
}
